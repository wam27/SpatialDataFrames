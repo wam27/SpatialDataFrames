{
 "cells": [
  {
   "cell_type": "markdown",
   "metadata": {},
   "source": [
    "## Sara the Turtle: `Pandas` Redux\n",
    "Recalling the script we wrote earlier to process the ARGOS tracking data for Sara the Turtle. Here, we'll demonstrate how another 3rd party package, namely `pandas`, can greatly simplify that task."
   ]
  },
  {
   "cell_type": "code",
   "execution_count": 1,
   "metadata": {},
   "outputs": [],
   "source": [
    "#Set the user date (can be switched to be a user input...)\n",
    "userDate = '7/3/2003'"
   ]
  },
  {
   "cell_type": "code",
   "execution_count": 2,
   "metadata": {},
   "outputs": [],
   "source": [
    "#Set the location classes used to filter the data. Again, can be an input\n",
    "locClasses = '1','2','3'"
   ]
  },
  {
   "cell_type": "code",
   "execution_count": 3,
   "metadata": {},
   "outputs": [],
   "source": [
    "#import the modules\n",
    "import pandas as pd"
   ]
  },
  {
   "cell_type": "code",
   "execution_count": 4,
   "metadata": {},
   "outputs": [],
   "source": [
    "#set a variable to the path where the tracking data lives\n",
    "dataFilename = '..\\Data\\Sara.txt'"
   ]
  },
  {
   "cell_type": "code",
   "execution_count": 5,
   "metadata": {},
   "outputs": [],
   "source": [
    "#Open the data as a pandas dataframe. \n",
    "df = pd.read_csv(dataFilename,\n",
    "                 comment='#',   #Skip lines that start with '#'\n",
    "                 delimiter='\\t' #Set the delimiter as <tab>\n",
    "                )"
   ]
  },
  {
   "cell_type": "code",
   "execution_count": 6,
   "metadata": {},
   "outputs": [],
   "source": [
    "#Create a mask of user dates\n",
    "dateMask = df['utc'].str.startswith(userDate)"
   ]
  },
  {
   "cell_type": "code",
   "execution_count": 7,
   "metadata": {},
   "outputs": [],
   "source": [
    "#Create a mask of location classe\n",
    "lcMask = df['lc'].isin(locClasses)"
   ]
  },
  {
   "cell_type": "code",
   "execution_count": 8,
   "metadata": {},
   "outputs": [
    {
     "data": {
      "text/html": [
       "<div>\n",
       "<style scoped>\n",
       "    .dataframe tbody tr th:only-of-type {\n",
       "        vertical-align: middle;\n",
       "    }\n",
       "\n",
       "    .dataframe tbody tr th {\n",
       "        vertical-align: top;\n",
       "    }\n",
       "\n",
       "    .dataframe thead th {\n",
       "        text-align: right;\n",
       "    }\n",
       "</style>\n",
       "<table border=\"1\" class=\"dataframe\">\n",
       "  <thead>\n",
       "    <tr style=\"text-align: right;\">\n",
       "      <th></th>\n",
       "      <th>uid</th>\n",
       "      <th>tag_id</th>\n",
       "      <th>utc</th>\n",
       "      <th>lc</th>\n",
       "      <th>iq</th>\n",
       "      <th>lat1</th>\n",
       "      <th>lon1</th>\n",
       "      <th>lat2</th>\n",
       "      <th>lon2</th>\n",
       "      <th>nb_mes</th>\n",
       "      <th>big_nb_mes</th>\n",
       "      <th>best_level</th>\n",
       "      <th>pass_duration</th>\n",
       "      <th>nopc</th>\n",
       "      <th>calcul_freq</th>\n",
       "      <th>altitude</th>\n",
       "    </tr>\n",
       "  </thead>\n",
       "  <tbody>\n",
       "    <tr>\n",
       "      <td>0</td>\n",
       "      <td>20616</td>\n",
       "      <td>29051</td>\n",
       "      <td>7/3/2003 9:13</td>\n",
       "      <td>3</td>\n",
       "      <td>66</td>\n",
       "      <td>33.898</td>\n",
       "      <td>-77.958</td>\n",
       "      <td>27.369</td>\n",
       "      <td>-46.309</td>\n",
       "      <td>6</td>\n",
       "      <td>0</td>\n",
       "      <td>-126</td>\n",
       "      <td>529</td>\n",
       "      <td>3</td>\n",
       "      <td>401 651134.7</td>\n",
       "      <td>0</td>\n",
       "    </tr>\n",
       "    <tr>\n",
       "      <td>4</td>\n",
       "      <td>20620</td>\n",
       "      <td>29051</td>\n",
       "      <td>7/3/2003 12:10</td>\n",
       "      <td>2</td>\n",
       "      <td>67</td>\n",
       "      <td>33.901</td>\n",
       "      <td>-77.909</td>\n",
       "      <td>31.005</td>\n",
       "      <td>-64.614</td>\n",
       "      <td>4</td>\n",
       "      <td>0</td>\n",
       "      <td>-124</td>\n",
       "      <td>612</td>\n",
       "      <td>3</td>\n",
       "      <td>401 651181.6</td>\n",
       "      <td>0</td>\n",
       "    </tr>\n",
       "  </tbody>\n",
       "</table>\n",
       "</div>"
      ],
      "text/plain": [
       "     uid  tag_id             utc lc  iq    lat1    lon1    lat2    lon2  \\\n",
       "0  20616   29051   7/3/2003 9:13  3  66  33.898 -77.958  27.369 -46.309   \n",
       "4  20620   29051  7/3/2003 12:10  2  67  33.901 -77.909  31.005 -64.614   \n",
       "\n",
       "   nb_mes  big_nb_mes  best_level  pass_duration  nopc   calcul_freq  altitude  \n",
       "0       6           0        -126            529     3  401 651134.7         0  \n",
       "4       4           0        -124            612     3  401 651181.6         0  "
      ]
     },
     "execution_count": 8,
     "metadata": {},
     "output_type": "execute_result"
    }
   ],
   "source": [
    "#Filter the records that match the above masks\n",
    "dfOutput = df[dateMask & lcMask]\n",
    "dfOutput.head()"
   ]
  },
  {
   "cell_type": "code",
   "execution_count": 9,
   "metadata": {},
   "outputs": [
    {
     "name": "stdout",
     "output_type": "stream",
     "text": [
      "On 7/3/2003, Sara the turtle was found at:\n",
      "  33.898° Lat; -77.958° Lon\n",
      "  33.901° Lat; -77.909° Lon\n"
     ]
    }
   ],
   "source": [
    "print (\"On {}, Sara the turtle was found at:\".format(userDate))\n",
    "for i,row in dfOutput.iterrows():\n",
    "    print('  {0:.3f}° Lat; {1:.3f}° Lon'.format(row['lat1'],row['lon1']))"
   ]
  },
  {
   "cell_type": "markdown",
   "metadata": {},
   "source": [
    "## Mapping the points with the ArcGIS Python API"
   ]
  },
  {
   "cell_type": "code",
   "execution_count": 10,
   "metadata": {},
   "outputs": [],
   "source": [
    "#Create the GIS object\n",
    "from arcgis import GIS, geometry\n",
    "gis = GIS()"
   ]
  },
  {
   "cell_type": "code",
   "execution_count": 11,
   "metadata": {},
   "outputs": [
    {
     "data": {
      "application/vnd.jupyter.widget-view+json": {
       "model_id": "afd76324000a43bf884cbbf0a89a4585",
       "version_major": 2,
       "version_minor": 0
      },
      "text/plain": [
       "MapView(layout=Layout(height='400px', width='100%'), zoom=7.0)"
      ]
     },
     "metadata": {},
     "output_type": "display_data"
    },
    {
     "data": {
      "text/html": [
       "<div class=\"map-static-img-preview-c304dbf5-bbcd-4751-86f8-84ba2d848578\"><img src=\"\"></img></div>"
      ],
      "text/plain": [
       "<IPython.core.display.HTML object>"
      ]
     },
     "metadata": {},
     "output_type": "display_data"
    }
   ],
   "source": [
    "#Create the map object\n",
    "m = gis.map()\n",
    "\n",
    "#Loop through selected records\n",
    "for i,row in df[dateMask].iterrows():\n",
    "    \n",
    "    #Create a point, projected to WGS84\n",
    "    thePoint = geometry.Point({\"x\":row['lon1'],\n",
    "                               \"y\":row['lat1'],\n",
    "                               \"spatialRefernce\":{'wkid':'4326'}\n",
    "                              })\n",
    "    \n",
    "    #Draw that point in the map, assigning a popup to that point\n",
    "    m.draw(thePoint,popup={'title':str(i),\n",
    "                           'content':row['utc']})\n",
    "    \n",
    "    #Center the map on the current point\n",
    "    m.center = [row['lat1'],row['lon1']]\n",
    "    \n",
    "#Display the map at zoom level 7, using oceans basemap\n",
    "m.zoom = 7\n",
    "m.basemap='oceans'\n",
    "m"
   ]
  },
  {
   "cell_type": "code",
   "execution_count": null,
   "metadata": {},
   "outputs": [],
   "source": []
  }
 ],
 "metadata": {
  "kernelspec": {
   "display_name": "Python 3",
   "language": "python",
   "name": "python3"
  },
  "language_info": {
   "codemirror_mode": {
    "name": "ipython",
    "version": 3
   },
   "file_extension": ".py",
   "mimetype": "text/x-python",
   "name": "python",
   "nbconvert_exporter": "python",
   "pygments_lexer": "ipython3",
   "version": "3.6.8"
  }
 },
 "nbformat": 4,
 "nbformat_minor": 2
}
