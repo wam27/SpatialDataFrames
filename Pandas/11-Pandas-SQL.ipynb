{
 "cells": [
  {
   "cell_type": "markdown",
   "metadata": {},
   "source": [
    "# Pandas and SQL\n",
    "Structured Query Language, or **SQL**, is the language of databases. Though \"SQL\" may seem new to you, you've actually used it in your GIS work, specifically in selecting records by attribute values. SQL, however, is capable of much more than just selecting records; SQL is used to create, read, relate (i.e. join), update, delete records stored in database tables. \n",
    "\n",
    "In this exercise we use Pandas to mimic many SQL functions, showing that we don't need to learn daunting database management systems like Oracle, Microsoft SQL Server, PostgreSQL, or even MS Access, to run some of the everyday database functions you might want to run. Instead, we can import data as a dataframe and use some Pandas functions to get what you need. \n",
    "\n",
    "Here we explore some useful data query and transformation techniques are applied to marine species observations data extracted from OBIS/SeaMap. These data are stored in the data folder as `Seamap400.csv`. \n",
    "\n",
    "→ *You may want to examine this file in Excel to familiarize yourself with the data first.*"
   ]
  },
  {
   "cell_type": "code",
   "execution_count": 25,
   "metadata": {},
   "outputs": [],
   "source": [
    "#Import the modules\n",
    "import pandas as pd\n",
    "import numpy as np #Well need NumPy for some of its data types..."
   ]
  },
  {
   "cell_type": "markdown",
   "metadata": {},
   "source": [
    "## Loading the csv data into a Pandas dataframe\n",
    "We've loaded CSV data into a Pandas dataframe in previous exercises. The code block below demonstrates how the `read_csv` function easily does this. "
   ]
  },
  {
   "cell_type": "code",
   "execution_count": 6,
   "metadata": {},
   "outputs": [
    {
     "data": {
      "text/html": [
       "<div>\n",
       "<style scoped>\n",
       "    .dataframe tbody tr th:only-of-type {\n",
       "        vertical-align: middle;\n",
       "    }\n",
       "\n",
       "    .dataframe tbody tr th {\n",
       "        vertical-align: top;\n",
       "    }\n",
       "\n",
       "    .dataframe thead th {\n",
       "        text-align: right;\n",
       "    }\n",
       "</style>\n",
       "<table border=\"1\" class=\"dataframe\">\n",
       "  <thead>\n",
       "    <tr style=\"text-align: right;\">\n",
       "      <th></th>\n",
       "      <th>ID</th>\n",
       "      <th>datasetid</th>\n",
       "      <th>rowid</th>\n",
       "      <th>last_mod</th>\n",
       "      <th>latitude</th>\n",
       "      <th>longitude</th>\n",
       "      <th>sp_code</th>\n",
       "      <th>sp_tsn</th>\n",
       "      <th>sp_count</th>\n",
       "      <th>obs_date</th>\n",
       "      <th>scientific</th>\n",
       "      <th>sp_common</th>\n",
       "      <th>sp_class</th>\n",
       "      <th>provider</th>\n",
       "    </tr>\n",
       "  </thead>\n",
       "  <tbody>\n",
       "    <tr>\n",
       "      <td>0</td>\n",
       "      <td>1</td>\n",
       "      <td>400</td>\n",
       "      <td>1114</td>\n",
       "      <td>6/15/2007 10:06:59</td>\n",
       "      <td>37.27</td>\n",
       "      <td>-75.20</td>\n",
       "      <td>BALA</td>\n",
       "      <td>180522</td>\n",
       "      <td>2</td>\n",
       "      <td>3/13/2007 14:11:00</td>\n",
       "      <td>Balaenopteridae</td>\n",
       "      <td>rorquals</td>\n",
       "      <td>Mammalia</td>\n",
       "      <td>University of North Carolina at Wilmington</td>\n",
       "    </tr>\n",
       "    <tr>\n",
       "      <td>1</td>\n",
       "      <td>2</td>\n",
       "      <td>400</td>\n",
       "      <td>1006</td>\n",
       "      <td>6/15/2007 10:06:59</td>\n",
       "      <td>36.95</td>\n",
       "      <td>-75.87</td>\n",
       "      <td>Bph</td>\n",
       "      <td>180527</td>\n",
       "      <td>2</td>\n",
       "      <td>2/28/2007 10:52:00</td>\n",
       "      <td>Balaenoptera physalus</td>\n",
       "      <td>Fin Whale</td>\n",
       "      <td>Mammalia</td>\n",
       "      <td>University of North Carolina at Wilmington</td>\n",
       "    </tr>\n",
       "  </tbody>\n",
       "</table>\n",
       "</div>"
      ],
      "text/plain": [
       "   ID  datasetid  rowid            last_mod  latitude  longitude sp_code  \\\n",
       "0   1        400   1114  6/15/2007 10:06:59     37.27     -75.20    BALA   \n",
       "1   2        400   1006  6/15/2007 10:06:59     36.95     -75.87     Bph   \n",
       "\n",
       "   sp_tsn  sp_count            obs_date             scientific  sp_common  \\\n",
       "0  180522         2  3/13/2007 14:11:00        Balaenopteridae   rorquals   \n",
       "1  180527         2  2/28/2007 10:52:00  Balaenoptera physalus  Fin Whale   \n",
       "\n",
       "   sp_class                                    provider  \n",
       "0  Mammalia  University of North Carolina at Wilmington  \n",
       "1  Mammalia  University of North Carolina at Wilmington  "
      ]
     },
     "execution_count": 6,
     "metadata": {},
     "output_type": "execute_result"
    }
   ],
   "source": [
    "#Import the data into a dataframe called \"dfSeamap\"\n",
    "dfSeamap = pd.read_csv('../Data/Seamap400.csv')\n",
    "#Show the first 2 records in the result\n",
    "dfSeamap.head(2)"
   ]
  },
  {
   "cell_type": "markdown",
   "metadata": {},
   "source": [
    "The result *looks* good, and indeed we can do much with this dataframe. BUT, there are some \"gotchas\" that we can fix:\n",
    "* First, Pandas assigns its own index, when we might want to keep the ID field as the index values.\n",
    "* The `dataset` and `rowid` fields, are actually nominal values, not actual numbers, and we should import these as strings, not numbers (in case they have a leading zero, for example).\n",
    "* The `last_mod` and `obs_date` fields are imported as string objects, but we can import these as _date_ object, which will allow for selection via _time slices_."
   ]
  },
  {
   "cell_type": "code",
   "execution_count": 7,
   "metadata": {},
   "outputs": [
    {
     "data": {
      "text/plain": [
       "ID              int64\n",
       "datasetid       int64\n",
       "rowid           int64\n",
       "last_mod       object\n",
       "latitude      float64\n",
       "longitude     float64\n",
       "sp_code        object\n",
       "sp_tsn          int64\n",
       "sp_count        int64\n",
       "obs_date       object\n",
       "scientific     object\n",
       "sp_common      object\n",
       "sp_class       object\n",
       "provider       object\n",
       "dtype: object"
      ]
     },
     "execution_count": 7,
     "metadata": {},
     "output_type": "execute_result"
    }
   ],
   "source": [
    "dfSeamap.dtypes"
   ]
  },
  {
   "cell_type": "markdown",
   "metadata": {},
   "source": [
    "So... to fix this, we can specify a few extra parameters when importing the data. Below is the `read_csv()` function applied as above, but with some additional parameters (and also reformatted to make this statement more readable):\n",
    "* The `index_col` specifies which column will be our dataFrame's **index**. \n",
    "* `parse_dates` indicates that the `last_mod` and `obs_date` columns are a **date fields**, not strings, which enables us to to time-based queries. \n",
    "* And finally, the `dtype` functions allows us to override the defaut data type assignments. Here, we pass a dictionary consisting of column names (keys) and data types (values) to indicate which columns:data type pairs we want to specifiy. "
   ]
  },
  {
   "cell_type": "code",
   "execution_count": 3,
   "metadata": {},
   "outputs": [
    {
     "data": {
      "text/html": [
       "<div>\n",
       "<style scoped>\n",
       "    .dataframe tbody tr th:only-of-type {\n",
       "        vertical-align: middle;\n",
       "    }\n",
       "\n",
       "    .dataframe tbody tr th {\n",
       "        vertical-align: top;\n",
       "    }\n",
       "\n",
       "    .dataframe thead th {\n",
       "        text-align: right;\n",
       "    }\n",
       "</style>\n",
       "<table border=\"1\" class=\"dataframe\">\n",
       "  <thead>\n",
       "    <tr style=\"text-align: right;\">\n",
       "      <th></th>\n",
       "      <th>datasetid</th>\n",
       "      <th>rowid</th>\n",
       "      <th>last_mod</th>\n",
       "      <th>latitude</th>\n",
       "      <th>longitude</th>\n",
       "      <th>sp_code</th>\n",
       "      <th>sp_tsn</th>\n",
       "      <th>sp_count</th>\n",
       "      <th>obs_date</th>\n",
       "      <th>scientific</th>\n",
       "      <th>sp_common</th>\n",
       "      <th>sp_class</th>\n",
       "      <th>provider</th>\n",
       "    </tr>\n",
       "    <tr>\n",
       "      <th>ID</th>\n",
       "      <th></th>\n",
       "      <th></th>\n",
       "      <th></th>\n",
       "      <th></th>\n",
       "      <th></th>\n",
       "      <th></th>\n",
       "      <th></th>\n",
       "      <th></th>\n",
       "      <th></th>\n",
       "      <th></th>\n",
       "      <th></th>\n",
       "      <th></th>\n",
       "      <th></th>\n",
       "    </tr>\n",
       "  </thead>\n",
       "  <tbody>\n",
       "    <tr>\n",
       "      <td>1</td>\n",
       "      <td>400</td>\n",
       "      <td>1114</td>\n",
       "      <td>2007-06-15 10:06:59</td>\n",
       "      <td>37.27</td>\n",
       "      <td>-75.20</td>\n",
       "      <td>BALA</td>\n",
       "      <td>180522</td>\n",
       "      <td>2</td>\n",
       "      <td>2007-03-13 14:11:00</td>\n",
       "      <td>Balaenopteridae</td>\n",
       "      <td>rorquals</td>\n",
       "      <td>Mammalia</td>\n",
       "      <td>University of North Carolina at Wilmington</td>\n",
       "    </tr>\n",
       "    <tr>\n",
       "      <td>2</td>\n",
       "      <td>400</td>\n",
       "      <td>1006</td>\n",
       "      <td>2007-06-15 10:06:59</td>\n",
       "      <td>36.95</td>\n",
       "      <td>-75.87</td>\n",
       "      <td>Bph</td>\n",
       "      <td>180527</td>\n",
       "      <td>2</td>\n",
       "      <td>2007-02-28 10:52:00</td>\n",
       "      <td>Balaenoptera physalus</td>\n",
       "      <td>Fin Whale</td>\n",
       "      <td>Mammalia</td>\n",
       "      <td>University of North Carolina at Wilmington</td>\n",
       "    </tr>\n",
       "  </tbody>\n",
       "</table>\n",
       "</div>"
      ],
      "text/plain": [
       "   datasetid rowid            last_mod  latitude  longitude sp_code  sp_tsn  \\\n",
       "ID                                                                            \n",
       "1        400  1114 2007-06-15 10:06:59     37.27     -75.20    BALA  180522   \n",
       "2        400  1006 2007-06-15 10:06:59     36.95     -75.87     Bph  180527   \n",
       "\n",
       "    sp_count            obs_date             scientific  sp_common  sp_class  \\\n",
       "ID                                                                             \n",
       "1          2 2007-03-13 14:11:00        Balaenopteridae   rorquals  Mammalia   \n",
       "2          2 2007-02-28 10:52:00  Balaenoptera physalus  Fin Whale  Mammalia   \n",
       "\n",
       "                                      provider  \n",
       "ID                                              \n",
       "1   University of North Carolina at Wilmington  \n",
       "2   University of North Carolina at Wilmington  "
      ]
     },
     "execution_count": 3,
     "metadata": {},
     "output_type": "execute_result"
    }
   ],
   "source": [
    "#Import the Seamap400.csv file to a DataFrame\n",
    "dfSeamap = pd.read_csv(\n",
    "    '../Data/Seamap400.csv',             # File containing the data\n",
    "    index_col = 'ID',                    # Which column to set to the dataframe's index\n",
    "    parse_dates=['last_mod','obs_date'], # Which columns to format as dates\n",
    "    dtype={'datasetid':'str',            # Coerce the 'datasetid' and 'rowid' columns to be strings\n",
    "           'rowid':'str'\n",
    "          }\n",
    ")\n",
    "#Display the first two rows\n",
    "dfSeamap.head(2)"
   ]
  },
  {
   "cell_type": "markdown",
   "metadata": {},
   "source": [
    "Other than the ID now being used as the index the result looks the same, but if you inspect the data types, you'll see we got what we wanted."
   ]
  },
  {
   "cell_type": "code",
   "execution_count": 4,
   "metadata": {},
   "outputs": [
    {
     "data": {
      "text/plain": [
       "datasetid             object\n",
       "rowid                 object\n",
       "last_mod      datetime64[ns]\n",
       "latitude             float64\n",
       "longitude            float64\n",
       "sp_code               object\n",
       "sp_tsn                 int64\n",
       "sp_count               int64\n",
       "obs_date      datetime64[ns]\n",
       "scientific            object\n",
       "sp_common             object\n",
       "sp_class              object\n",
       "provider              object\n",
       "dtype: object"
      ]
     },
     "execution_count": 4,
     "metadata": {},
     "output_type": "execute_result"
    }
   ],
   "source": [
    "#Check the data types of the import\n",
    "dfSeamap.dtypes"
   ]
  },
  {
   "cell_type": "markdown",
   "metadata": {},
   "source": [
    "## Exploring our dataFrame\n",
    "Now, let's examine how many unique species there are. This is analogous to the `SELECT DISTINCT` SQL operation."
   ]
  },
  {
   "cell_type": "code",
   "execution_count": 8,
   "metadata": {},
   "outputs": [
    {
     "data": {
      "text/plain": [
       "array(['rorquals', 'Fin Whale', 'Loggerhead', 'cartilaginous fishes',\n",
       "       'Basking Shark', 'Common Dolphin', 'dolphins',\n",
       "       'Northern Right Whale', 'Short-finned Pilot Whale',\n",
       "       'Ocean Sunfish', 'Atlantic Ridley', 'Atlantic Manta',\n",
       "       'Humpback Whale', 'cow-nose rays', 'Bottlenose Dolphin',\n",
       "       'Sea Turtles'], dtype=object)"
      ]
     },
     "execution_count": 8,
     "metadata": {},
     "output_type": "execute_result"
    }
   ],
   "source": [
    "dfSeamap['sp_common'].unique()"
   ]
  },
  {
   "cell_type": "markdown",
   "metadata": {},
   "source": [
    "## Selecting <u>columns</u> of data from a dataFrame\n",
    "Selecting columns is analogous to the SQL `SELECT ... FROM` clause, but the syntax in Pandas is a bit different."
   ]
  },
  {
   "cell_type": "markdown",
   "metadata": {},
   "source": [
    "#### ♦ Selecting data from <u>a single column</u> in the dataframe\n",
    "Selecting a single column is easy as specifying the column name, either between brackets with the field name in quotes, or using the dot notation. (*The former is preferred, in case your field name is the the same as another property or method of a dataFrame.*)\n",
    "\n",
    "When only one column is selected, the object returned is actually not a dataFrame, but a pandas **series** object, which is quite similar to a one-dimensional NumPy array. (However, in Pandas, series are limited to one dimension...)"
   ]
  },
  {
   "cell_type": "code",
   "execution_count": 9,
   "metadata": {},
   "outputs": [
    {
     "data": {
      "text/plain": [
       "0     rorquals\n",
       "1    Fin Whale\n",
       "2    Fin Whale\n",
       "3    Fin Whale\n",
       "4    Fin Whale\n",
       "Name: sp_common, dtype: object"
      ]
     },
     "execution_count": 9,
     "metadata": {},
     "output_type": "execute_result"
    }
   ],
   "source": [
    "#Select just the sp_common field into a new view\n",
    "dfSelect = dfSeamap['sp_common']\n",
    "dfSelect.head()"
   ]
  },
  {
   "cell_type": "code",
   "execution_count": 10,
   "metadata": {},
   "outputs": [
    {
     "data": {
      "text/plain": [
       "pandas.core.series.Series"
      ]
     },
     "execution_count": 10,
     "metadata": {},
     "output_type": "execute_result"
    }
   ],
   "source": [
    "#Using \"dot notation\" (<dataframe>.<field name>) also works\n",
    "commonNames = dfSeamap.sp_common\n",
    "type(commonNames)"
   ]
  },
  {
   "cell_type": "code",
   "execution_count": 11,
   "metadata": {},
   "outputs": [
    {
     "data": {
      "text/plain": [
       "0     rorquals\n",
       "1    Fin Whale\n",
       "2    Fin Whale\n",
       "3    Fin Whale\n",
       "4    Fin Whale\n",
       "5    Fin Whale\n",
       "6    Fin Whale\n",
       "7    Fin Whale\n",
       "Name: sp_common, dtype: object"
      ]
     },
     "execution_count": 11,
     "metadata": {},
     "output_type": "execute_result"
    }
   ],
   "source": [
    "#As the object returned is a series, we can get records from its index\n",
    "commonNames[:8] #Returns the first 8 records"
   ]
  },
  {
   "cell_type": "code",
   "execution_count": 13,
   "metadata": {},
   "outputs": [
    {
     "data": {
      "text/plain": [
       "2261    Sea Turtles\n",
       "2262    Sea Turtles\n",
       "2263    Sea Turtles\n",
       "2264    Sea Turtles\n",
       "2265    Sea Turtles\n",
       "2266    Sea Turtles\n",
       "2267    Sea Turtles\n",
       "2268    Sea Turtles\n",
       "Name: sp_common, dtype: object"
      ]
     },
     "execution_count": 13,
     "metadata": {},
     "output_type": "execute_result"
    }
   ],
   "source": [
    "#What code would you use to get the last 8 records? (Replace the █)\n",
    "commonNames[-8:]"
   ]
  },
  {
   "cell_type": "markdown",
   "metadata": {},
   "source": [
    "#### ♦ Selecting data  from <u>multiple</u> columns\n",
    "Selecting multiple columns can be done by including a list of the column names. *Note the double set of brackets: the outer set is the syntax of the dataFrame object, and the inner set denotes the list of field names we want.*\n",
    "\n",
    "Here, the object returned resembles a dataFrame, not a series (since Pandas' series can only be one-dimension). However, in actuality, this is simply a **view** of the original dataFrame, not a new object - much like query views in SQL..."
   ]
  },
  {
   "cell_type": "code",
   "execution_count": 14,
   "metadata": {},
   "outputs": [
    {
     "data": {
      "text/html": [
       "<div>\n",
       "<style scoped>\n",
       "    .dataframe tbody tr th:only-of-type {\n",
       "        vertical-align: middle;\n",
       "    }\n",
       "\n",
       "    .dataframe tbody tr th {\n",
       "        vertical-align: top;\n",
       "    }\n",
       "\n",
       "    .dataframe thead th {\n",
       "        text-align: right;\n",
       "    }\n",
       "</style>\n",
       "<table border=\"1\" class=\"dataframe\">\n",
       "  <thead>\n",
       "    <tr style=\"text-align: right;\">\n",
       "      <th></th>\n",
       "      <th>sp_common</th>\n",
       "      <th>sp_class</th>\n",
       "    </tr>\n",
       "  </thead>\n",
       "  <tbody>\n",
       "    <tr>\n",
       "      <td>0</td>\n",
       "      <td>rorquals</td>\n",
       "      <td>Mammalia</td>\n",
       "    </tr>\n",
       "    <tr>\n",
       "      <td>1</td>\n",
       "      <td>Fin Whale</td>\n",
       "      <td>Mammalia</td>\n",
       "    </tr>\n",
       "    <tr>\n",
       "      <td>2</td>\n",
       "      <td>Fin Whale</td>\n",
       "      <td>Mammalia</td>\n",
       "    </tr>\n",
       "    <tr>\n",
       "      <td>3</td>\n",
       "      <td>Fin Whale</td>\n",
       "      <td>Mammalia</td>\n",
       "    </tr>\n",
       "    <tr>\n",
       "      <td>4</td>\n",
       "      <td>Fin Whale</td>\n",
       "      <td>Mammalia</td>\n",
       "    </tr>\n",
       "  </tbody>\n",
       "</table>\n",
       "</div>"
      ],
      "text/plain": [
       "   sp_common  sp_class\n",
       "0   rorquals  Mammalia\n",
       "1  Fin Whale  Mammalia\n",
       "2  Fin Whale  Mammalia\n",
       "3  Fin Whale  Mammalia\n",
       "4  Fin Whale  Mammalia"
      ]
     },
     "execution_count": 14,
     "metadata": {},
     "output_type": "execute_result"
    }
   ],
   "source": [
    "#Select the 'sp_common' and 'sp_class' columns into a new view\n",
    "dfSelect = dfSeamap[['sp_common','sp_class']]\n",
    "dfSelect.head()"
   ]
  },
  {
   "cell_type": "code",
   "execution_count": 15,
   "metadata": {},
   "outputs": [
    {
     "data": {
      "text/html": [
       "<div>\n",
       "<style scoped>\n",
       "    .dataframe tbody tr th:only-of-type {\n",
       "        vertical-align: middle;\n",
       "    }\n",
       "\n",
       "    .dataframe tbody tr th {\n",
       "        vertical-align: top;\n",
       "    }\n",
       "\n",
       "    .dataframe thead th {\n",
       "        text-align: right;\n",
       "    }\n",
       "</style>\n",
       "<table border=\"1\" class=\"dataframe\">\n",
       "  <thead>\n",
       "    <tr style=\"text-align: right;\">\n",
       "      <th></th>\n",
       "      <th>sp_common</th>\n",
       "      <th>latitude</th>\n",
       "      <th>longitude</th>\n",
       "    </tr>\n",
       "  </thead>\n",
       "  <tbody>\n",
       "    <tr>\n",
       "      <td>0</td>\n",
       "      <td>rorquals</td>\n",
       "      <td>37.27</td>\n",
       "      <td>-75.20</td>\n",
       "    </tr>\n",
       "    <tr>\n",
       "      <td>1</td>\n",
       "      <td>Fin Whale</td>\n",
       "      <td>36.95</td>\n",
       "      <td>-75.87</td>\n",
       "    </tr>\n",
       "    <tr>\n",
       "      <td>2</td>\n",
       "      <td>Fin Whale</td>\n",
       "      <td>36.96</td>\n",
       "      <td>-75.43</td>\n",
       "    </tr>\n",
       "    <tr>\n",
       "      <td>3</td>\n",
       "      <td>Fin Whale</td>\n",
       "      <td>36.95</td>\n",
       "      <td>-75.49</td>\n",
       "    </tr>\n",
       "    <tr>\n",
       "      <td>4</td>\n",
       "      <td>Fin Whale</td>\n",
       "      <td>36.70</td>\n",
       "      <td>-75.55</td>\n",
       "    </tr>\n",
       "  </tbody>\n",
       "</table>\n",
       "</div>"
      ],
      "text/plain": [
       "   sp_common  latitude  longitude\n",
       "0   rorquals     37.27     -75.20\n",
       "1  Fin Whale     36.95     -75.87\n",
       "2  Fin Whale     36.96     -75.43\n",
       "3  Fin Whale     36.95     -75.49\n",
       "4  Fin Whale     36.70     -75.55"
      ]
     },
     "execution_count": 15,
     "metadata": {},
     "output_type": "execute_result"
    }
   ],
   "source": [
    "##What code would create a table of just the species common name and the latitude and longitude columns?\n",
    "dfSelect2 = dfSeamap[['sp_common', 'latitude','longitude']]\n",
    "dfSelect2.head()"
   ]
  },
  {
   "cell_type": "markdown",
   "metadata": {},
   "source": [
    "## Selecting <u>rows</u> in a dataFrame\n",
    "Selecting rows, analogous to the `select...where` statement in SQL, can be done by creating **boolean masks** of the criteria you want and then applying those masks. This can be done explicitily as two steps, or more commonly in a single, compount step. "
   ]
  },
  {
   "cell_type": "markdown",
   "metadata": {},
   "source": [
    "Before making our selection, let's examine how we can easily extract a list of valid options using the `unique` property."
   ]
  },
  {
   "cell_type": "code",
   "execution_count": 16,
   "metadata": {},
   "outputs": [
    {
     "data": {
      "text/plain": [
       "array(['Mammalia', 'Reptilia', 'Chondrichthyes', 'Actinopterygii'],\n",
       "      dtype=object)"
      ]
     },
     "execution_count": 16,
     "metadata": {},
     "output_type": "execute_result"
    }
   ],
   "source": [
    "#List the unique values in the 'sp_class' field.\n",
    "dfSeamap['sp_class'].unique()"
   ]
  },
  {
   "cell_type": "code",
   "execution_count": 17,
   "metadata": {},
   "outputs": [
    {
     "data": {
      "text/plain": [
       "267"
      ]
     },
     "execution_count": 17,
     "metadata": {},
     "output_type": "execute_result"
    }
   ],
   "source": [
    "#Display just the *number* of unique latitude values\n",
    "dfSeamap['latitude'].nunique()"
   ]
  },
  {
   "cell_type": "markdown",
   "metadata": {},
   "source": [
    "#### Selecting rows in two steps:"
   ]
  },
  {
   "cell_type": "code",
   "execution_count": 18,
   "metadata": {},
   "outputs": [
    {
     "data": {
      "text/plain": [
       "2150     True\n",
       "2151     True\n",
       "2152     True\n",
       "2153    False\n",
       "2154    False\n",
       "2155    False\n",
       "Name: sp_class, dtype: bool"
      ]
     },
     "execution_count": 18,
     "metadata": {},
     "output_type": "execute_result"
    }
   ],
   "source": [
    "#Step 1: Create the boolean mask\n",
    "theMask = dfSeamap['sp_class'] == 'Mammalia'\n",
    "theMask[2150:2156] #Show a selection of records, to display values"
   ]
  },
  {
   "cell_type": "code",
   "execution_count": 19,
   "metadata": {},
   "outputs": [
    {
     "data": {
      "text/html": [
       "<div>\n",
       "<style scoped>\n",
       "    .dataframe tbody tr th:only-of-type {\n",
       "        vertical-align: middle;\n",
       "    }\n",
       "\n",
       "    .dataframe tbody tr th {\n",
       "        vertical-align: top;\n",
       "    }\n",
       "\n",
       "    .dataframe thead th {\n",
       "        text-align: right;\n",
       "    }\n",
       "</style>\n",
       "<table border=\"1\" class=\"dataframe\">\n",
       "  <thead>\n",
       "    <tr style=\"text-align: right;\">\n",
       "      <th></th>\n",
       "      <th>ID</th>\n",
       "      <th>datasetid</th>\n",
       "      <th>rowid</th>\n",
       "      <th>last_mod</th>\n",
       "      <th>latitude</th>\n",
       "      <th>longitude</th>\n",
       "      <th>sp_code</th>\n",
       "      <th>sp_tsn</th>\n",
       "      <th>sp_count</th>\n",
       "      <th>obs_date</th>\n",
       "      <th>scientific</th>\n",
       "      <th>sp_common</th>\n",
       "      <th>sp_class</th>\n",
       "      <th>provider</th>\n",
       "    </tr>\n",
       "  </thead>\n",
       "  <tbody>\n",
       "    <tr>\n",
       "      <td>2145</td>\n",
       "      <td>2146</td>\n",
       "      <td>400</td>\n",
       "      <td>2251</td>\n",
       "      <td>6/15/2007 10:06:59</td>\n",
       "      <td>36.52</td>\n",
       "      <td>-75.80</td>\n",
       "      <td>Ttr</td>\n",
       "      <td>180426</td>\n",
       "      <td>2</td>\n",
       "      <td>5/1/2007 10:38:00</td>\n",
       "      <td>Tursiops truncatus</td>\n",
       "      <td>Bottlenose Dolphin</td>\n",
       "      <td>Mammalia</td>\n",
       "      <td>University of North Carolina at Wilmington</td>\n",
       "    </tr>\n",
       "    <tr>\n",
       "      <td>1170</td>\n",
       "      <td>1171</td>\n",
       "      <td>400</td>\n",
       "      <td>793</td>\n",
       "      <td>6/15/2007 10:06:59</td>\n",
       "      <td>34.57</td>\n",
       "      <td>-76.48</td>\n",
       "      <td>DELP</td>\n",
       "      <td>180415</td>\n",
       "      <td>4</td>\n",
       "      <td>2/17/2007 10:50:00</td>\n",
       "      <td>Delphinidae</td>\n",
       "      <td>dolphins</td>\n",
       "      <td>Mammalia</td>\n",
       "      <td>University of North Carolina at Wilmington</td>\n",
       "    </tr>\n",
       "    <tr>\n",
       "      <td>2143</td>\n",
       "      <td>2144</td>\n",
       "      <td>400</td>\n",
       "      <td>2239</td>\n",
       "      <td>6/15/2007 10:06:59</td>\n",
       "      <td>36.20</td>\n",
       "      <td>-75.73</td>\n",
       "      <td>Ttr</td>\n",
       "      <td>180426</td>\n",
       "      <td>10</td>\n",
       "      <td>4/30/2007 13:59:00</td>\n",
       "      <td>Tursiops truncatus</td>\n",
       "      <td>Bottlenose Dolphin</td>\n",
       "      <td>Mammalia</td>\n",
       "      <td>University of North Carolina at Wilmington</td>\n",
       "    </tr>\n",
       "    <tr>\n",
       "      <td>1517</td>\n",
       "      <td>1518</td>\n",
       "      <td>400</td>\n",
       "      <td>508</td>\n",
       "      <td>6/15/2007 10:06:59</td>\n",
       "      <td>34.47</td>\n",
       "      <td>-77.43</td>\n",
       "      <td>Ttr</td>\n",
       "      <td>180426</td>\n",
       "      <td>6</td>\n",
       "      <td>2/4/2007 12:34:00</td>\n",
       "      <td>Tursiops truncatus</td>\n",
       "      <td>Bottlenose Dolphin</td>\n",
       "      <td>Mammalia</td>\n",
       "      <td>University of North Carolina at Wilmington</td>\n",
       "    </tr>\n",
       "  </tbody>\n",
       "</table>\n",
       "</div>"
      ],
      "text/plain": [
       "        ID  datasetid  rowid            last_mod  latitude  longitude sp_code  \\\n",
       "2145  2146        400   2251  6/15/2007 10:06:59     36.52     -75.80     Ttr   \n",
       "1170  1171        400    793  6/15/2007 10:06:59     34.57     -76.48    DELP   \n",
       "2143  2144        400   2239  6/15/2007 10:06:59     36.20     -75.73     Ttr   \n",
       "1517  1518        400    508  6/15/2007 10:06:59     34.47     -77.43     Ttr   \n",
       "\n",
       "      sp_tsn  sp_count            obs_date          scientific  \\\n",
       "2145  180426         2   5/1/2007 10:38:00  Tursiops truncatus   \n",
       "1170  180415         4  2/17/2007 10:50:00         Delphinidae   \n",
       "2143  180426        10  4/30/2007 13:59:00  Tursiops truncatus   \n",
       "1517  180426         6   2/4/2007 12:34:00  Tursiops truncatus   \n",
       "\n",
       "               sp_common  sp_class                                    provider  \n",
       "2145  Bottlenose Dolphin  Mammalia  University of North Carolina at Wilmington  \n",
       "1170            dolphins  Mammalia  University of North Carolina at Wilmington  \n",
       "2143  Bottlenose Dolphin  Mammalia  University of North Carolina at Wilmington  \n",
       "1517  Bottlenose Dolphin  Mammalia  University of North Carolina at Wilmington  "
      ]
     },
     "execution_count": 19,
     "metadata": {},
     "output_type": "execute_result"
    }
   ],
   "source": [
    "#Step 2: Applying the mask to return only 'true' records\n",
    "dfMammals = dfSeamap[theMask]\n",
    "dfMammals.sample(4) #Show a random sample from the product"
   ]
  },
  {
   "cell_type": "code",
   "execution_count": 20,
   "metadata": {},
   "outputs": [
    {
     "data": {
      "text/plain": [
       "array(['Mammalia'], dtype=object)"
      ]
     },
     "execution_count": 20,
     "metadata": {},
     "output_type": "execute_result"
    }
   ],
   "source": [
    "#Proof that we only got mammals in the result\n",
    "dfMammals['sp_class'].unique()"
   ]
  },
  {
   "cell_type": "markdown",
   "metadata": {},
   "source": [
    "#### Selecting rows in one step:"
   ]
  },
  {
   "cell_type": "code",
   "execution_count": 21,
   "metadata": {},
   "outputs": [
    {
     "data": {
      "text/plain": [
       "(929, 14)"
      ]
     },
     "execution_count": 21,
     "metadata": {},
     "output_type": "execute_result"
    }
   ],
   "source": [
    "#Get all the mammals and report all unique scientific names\n",
    "dfMammals = dfSeamap[dfSeamap['sp_class'] == 'Mammalia']\n",
    "dfMammals.shape #Reveal the size of the result"
   ]
  },
  {
   "cell_type": "code",
   "execution_count": 22,
   "metadata": {},
   "outputs": [
    {
     "data": {
      "text/plain": [
       "array(['Balaenopteridae', 'Balaenoptera physalus', 'Delphinus delphis',\n",
       "       'Delphinidae', 'Eubalaena glacialis', 'Globicephala macrorhynchus',\n",
       "       'Megaptera novaeangliae', 'Tursiops truncatus'], dtype=object)"
      ]
     },
     "execution_count": 22,
     "metadata": {},
     "output_type": "execute_result"
    }
   ],
   "source": [
    "dfMammals['scientific'].unique()"
   ]
  },
  {
   "cell_type": "markdown",
   "metadata": {},
   "source": [
    "#### Selecting rows using `query`:\n",
    "We can also execute familiar **query strings** to extract records. *Personally, I don't like this method as the query strings tend to be finicky and can be tough to use with quotes..*"
   ]
  },
  {
   "cell_type": "code",
   "execution_count": 23,
   "metadata": {},
   "outputs": [
    {
     "data": {
      "text/plain": [
       "(929, 14)"
      ]
     },
     "execution_count": 23,
     "metadata": {},
     "output_type": "execute_result"
    }
   ],
   "source": [
    "dfMammals = dfSeamap.query(\"sp_class == 'Mammalia'\")\n",
    "dfMammals.shape"
   ]
  },
  {
   "cell_type": "markdown",
   "metadata": {},
   "source": [
    "#### Complex row selections\n",
    "We can combine masks using logical operators (`&` = \"and\", `|` = \"or\")."
   ]
  },
  {
   "cell_type": "code",
   "execution_count": 26,
   "metadata": {},
   "outputs": [
    {
     "ename": "TypeError",
     "evalue": "'<=' not supported between instances of 'numpy.ndarray' and 'str'",
     "output_type": "error",
     "traceback": [
      "\u001b[1;31m---------------------------------------------------------------------------\u001b[0m",
      "\u001b[1;31mTypeError\u001b[0m                                 Traceback (most recent call last)",
      "\u001b[1;32m<ipython-input-26-d02307179a3a>\u001b[0m in \u001b[0;36m<module>\u001b[1;34m\u001b[0m\n\u001b[0;32m      7\u001b[0m \u001b[1;33m\u001b[0m\u001b[0m\n\u001b[0;32m      8\u001b[0m \u001b[1;31m#Create the date masks\u001b[0m\u001b[1;33m\u001b[0m\u001b[1;33m\u001b[0m\u001b[1;33m\u001b[0m\u001b[0m\n\u001b[1;32m----> 9\u001b[1;33m \u001b[0mstartMask\u001b[0m \u001b[1;33m=\u001b[0m \u001b[1;33m(\u001b[0m\u001b[0mdfSeamap\u001b[0m\u001b[1;33m[\u001b[0m\u001b[1;34m'obs_date'\u001b[0m\u001b[1;33m]\u001b[0m \u001b[1;33m>=\u001b[0m \u001b[0mstartDate\u001b[0m\u001b[1;33m)\u001b[0m\u001b[1;33m\u001b[0m\u001b[1;33m\u001b[0m\u001b[0m\n\u001b[0m\u001b[0;32m     10\u001b[0m \u001b[0mendMask\u001b[0m \u001b[1;33m=\u001b[0m \u001b[1;33m(\u001b[0m\u001b[0mdfSeamap\u001b[0m\u001b[1;33m[\u001b[0m\u001b[1;34m'obs_date'\u001b[0m\u001b[1;33m]\u001b[0m \u001b[1;33m<\u001b[0m \u001b[0mendDate\u001b[0m\u001b[1;33m)\u001b[0m\u001b[1;33m\u001b[0m\u001b[1;33m\u001b[0m\u001b[0m\n\u001b[0;32m     11\u001b[0m \u001b[1;33m\u001b[0m\u001b[0m\n",
      "\u001b[1;32mC:\\Conda\\ENV859\\lib\\site-packages\\pandas\\core\\ops\\__init__.py\u001b[0m in \u001b[0;36mwrapper\u001b[1;34m(self, other, axis)\u001b[0m\n\u001b[0;32m   1227\u001b[0m \u001b[1;33m\u001b[0m\u001b[0m\n\u001b[0;32m   1228\u001b[0m             \u001b[1;32mwith\u001b[0m \u001b[0mnp\u001b[0m\u001b[1;33m.\u001b[0m\u001b[0merrstate\u001b[0m\u001b[1;33m(\u001b[0m\u001b[0mall\u001b[0m\u001b[1;33m=\u001b[0m\u001b[1;34m\"ignore\"\u001b[0m\u001b[1;33m)\u001b[0m\u001b[1;33m:\u001b[0m\u001b[1;33m\u001b[0m\u001b[1;33m\u001b[0m\u001b[0m\n\u001b[1;32m-> 1229\u001b[1;33m                 \u001b[0mres\u001b[0m \u001b[1;33m=\u001b[0m \u001b[0mna_op\u001b[0m\u001b[1;33m(\u001b[0m\u001b[0mvalues\u001b[0m\u001b[1;33m,\u001b[0m \u001b[0mother\u001b[0m\u001b[1;33m)\u001b[0m\u001b[1;33m\u001b[0m\u001b[1;33m\u001b[0m\u001b[0m\n\u001b[0m\u001b[0;32m   1230\u001b[0m             \u001b[1;32mif\u001b[0m \u001b[0mis_scalar\u001b[0m\u001b[1;33m(\u001b[0m\u001b[0mres\u001b[0m\u001b[1;33m)\u001b[0m\u001b[1;33m:\u001b[0m\u001b[1;33m\u001b[0m\u001b[1;33m\u001b[0m\u001b[0m\n\u001b[0;32m   1231\u001b[0m                 raise TypeError(\n",
      "\u001b[1;32mC:\\Conda\\ENV859\\lib\\site-packages\\pandas\\core\\ops\\__init__.py\u001b[0m in \u001b[0;36mna_op\u001b[1;34m(x, y)\u001b[0m\n\u001b[0;32m   1089\u001b[0m \u001b[1;33m\u001b[0m\u001b[0m\n\u001b[0;32m   1090\u001b[0m         \u001b[1;32mif\u001b[0m \u001b[0mis_object_dtype\u001b[0m\u001b[1;33m(\u001b[0m\u001b[0mx\u001b[0m\u001b[1;33m.\u001b[0m\u001b[0mdtype\u001b[0m\u001b[1;33m)\u001b[0m\u001b[1;33m:\u001b[0m\u001b[1;33m\u001b[0m\u001b[1;33m\u001b[0m\u001b[0m\n\u001b[1;32m-> 1091\u001b[1;33m             \u001b[0mresult\u001b[0m \u001b[1;33m=\u001b[0m \u001b[0m_comp_method_OBJECT_ARRAY\u001b[0m\u001b[1;33m(\u001b[0m\u001b[0mop\u001b[0m\u001b[1;33m,\u001b[0m \u001b[0mx\u001b[0m\u001b[1;33m,\u001b[0m \u001b[0my\u001b[0m\u001b[1;33m)\u001b[0m\u001b[1;33m\u001b[0m\u001b[1;33m\u001b[0m\u001b[0m\n\u001b[0m\u001b[0;32m   1092\u001b[0m \u001b[1;33m\u001b[0m\u001b[0m\n\u001b[0;32m   1093\u001b[0m         \u001b[1;32melif\u001b[0m \u001b[0mis_datetimelike_v_numeric\u001b[0m\u001b[1;33m(\u001b[0m\u001b[0mx\u001b[0m\u001b[1;33m,\u001b[0m \u001b[0my\u001b[0m\u001b[1;33m)\u001b[0m\u001b[1;33m:\u001b[0m\u001b[1;33m\u001b[0m\u001b[1;33m\u001b[0m\u001b[0m\n",
      "\u001b[1;32mC:\\Conda\\ENV859\\lib\\site-packages\\pandas\\core\\ops\\__init__.py\u001b[0m in \u001b[0;36m_comp_method_OBJECT_ARRAY\u001b[1;34m(op, x, y)\u001b[0m\n\u001b[0;32m   1067\u001b[0m         \u001b[0mresult\u001b[0m \u001b[1;33m=\u001b[0m \u001b[0mlibops\u001b[0m\u001b[1;33m.\u001b[0m\u001b[0mvec_compare\u001b[0m\u001b[1;33m(\u001b[0m\u001b[0mx\u001b[0m\u001b[1;33m,\u001b[0m \u001b[0my\u001b[0m\u001b[1;33m,\u001b[0m \u001b[0mop\u001b[0m\u001b[1;33m)\u001b[0m\u001b[1;33m\u001b[0m\u001b[1;33m\u001b[0m\u001b[0m\n\u001b[0;32m   1068\u001b[0m     \u001b[1;32melse\u001b[0m\u001b[1;33m:\u001b[0m\u001b[1;33m\u001b[0m\u001b[1;33m\u001b[0m\u001b[0m\n\u001b[1;32m-> 1069\u001b[1;33m         \u001b[0mresult\u001b[0m \u001b[1;33m=\u001b[0m \u001b[0mlibops\u001b[0m\u001b[1;33m.\u001b[0m\u001b[0mscalar_compare\u001b[0m\u001b[1;33m(\u001b[0m\u001b[0mx\u001b[0m\u001b[1;33m,\u001b[0m \u001b[0my\u001b[0m\u001b[1;33m,\u001b[0m \u001b[0mop\u001b[0m\u001b[1;33m)\u001b[0m\u001b[1;33m\u001b[0m\u001b[1;33m\u001b[0m\u001b[0m\n\u001b[0m\u001b[0;32m   1070\u001b[0m     \u001b[1;32mreturn\u001b[0m \u001b[0mresult\u001b[0m\u001b[1;33m\u001b[0m\u001b[1;33m\u001b[0m\u001b[0m\n\u001b[0;32m   1071\u001b[0m \u001b[1;33m\u001b[0m\u001b[0m\n",
      "\u001b[1;32mpandas\\_libs\\ops.pyx\u001b[0m in \u001b[0;36mpandas._libs.ops.scalar_compare\u001b[1;34m()\u001b[0m\n",
      "\u001b[1;31mTypeError\u001b[0m: '<=' not supported between instances of 'numpy.ndarray' and 'str'"
     ]
    }
   ],
   "source": [
    "#Select mammal records in the 2nd half of 2006\n",
    "mammalMask = dfSeamap['sp_class'] == 'Mammalia'\n",
    "\n",
    "#Create date objects for the start and end dates\n",
    "startDate = np.datetime64('2006-07-01')\n",
    "endDate = np.datetime64('2007-01-01')\n",
    "\n",
    "#Create the date masks\n",
    "startMask = (dfSeamap['obs_date'] >= startDate) \n",
    "endMask = (dfSeamap['obs_date'] < endDate)\n",
    "\n",
    "#Apply the masks, using the bitwise '&' to return rows where all masks are true\n",
    "dfSelect2 = dfSeamap[mammalMask & startMask & endMask]\n",
    "dfSelect2['scientific'].unique()"
   ]
  },
  {
   "cell_type": "markdown",
   "metadata": {},
   "source": [
    "#### Return rows matching a substring\n",
    "The `.str` function on a column allows us to use some string operations  on the values in that field.  Here we use the string `startswith` function to return all rows where the row's value starts with 'Delphin'. See https://pandas.pydata.org/pandas-docs/stable/text.html for other string operations."
   ]
  },
  {
   "cell_type": "code",
   "execution_count": 27,
   "metadata": {},
   "outputs": [
    {
     "data": {
      "text/plain": [
       "2"
      ]
     },
     "execution_count": 27,
     "metadata": {},
     "output_type": "execute_result"
    }
   ],
   "source": [
    "#Select rows where the scientific name starts with \"Delphin\" \n",
    "dolphinMask = dfSeamap['scientific'].str.startswith('Delphin')\n",
    "dfDolphins = dfSeamap[dolphinMask]\n",
    "\n",
    "#Use the nunique function to just return the number \n",
    "#  of unique scientific names\n",
    "dfDolphins['scientific'].nunique()"
   ]
  },
  {
   "cell_type": "markdown",
   "metadata": {},
   "source": [
    "#### More complex queries with `apply` and  `lambda`\n",
    "For maximum flexibility, we can actually write our own functions to be applied to each value in a column (or multiple columns). This is done using the `apply` function to a dataFrame and then specifying the subcode we want to use with Python's `lambda` statement. (This seems fairly complex at first, but it actually somewhat straightforward -- and can be very useful...)"
   ]
  },
  {
   "cell_type": "code",
   "execution_count": 28,
   "metadata": {},
   "outputs": [
    {
     "data": {
      "text/plain": [
       "array(['Balaenoptera physalus', 'Eubalaena glacialis',\n",
       "       'Globicephala macrorhynchus', 'Megaptera novaeangliae'],\n",
       "      dtype=object)"
      ]
     },
     "execution_count": 28,
     "metadata": {},
     "output_type": "execute_result"
    }
   ],
   "source": [
    "#Create a mask by searching each row for the string \"Whale\" and apply the mask\n",
    "# to list the scientific names of these records\n",
    "whaleMask = dfSeamap['sp_common'].apply(lambda x: 'Whale' in x)\n",
    "dfWhale = dfSeamap[whaleMask]\n",
    "dfWhale['scientific'].unique()"
   ]
  },
  {
   "cell_type": "markdown",
   "metadata": {},
   "source": [
    "## Grouping/Aggregating data\n",
    "Pandas can aggregate data on values like SQL as well. We do this with the `groupby` statement"
   ]
  },
  {
   "cell_type": "code",
   "execution_count": 29,
   "metadata": {},
   "outputs": [
    {
     "data": {
      "text/plain": [
       "sp_common\n",
       "Atlantic Manta               24\n",
       "Atlantic Ridley               5\n",
       "Basking Shark                29\n",
       "Bottlenose Dolphin          849\n",
       "Common Dolphin               16\n",
       "Fin Whale                     8\n",
       "Humpback Whale                4\n",
       "Loggerhead                  957\n",
       "Northern Right Whale         11\n",
       "Ocean Sunfish                64\n",
       "Sea Turtles                 116\n",
       "Short-finned Pilot Whale      2\n",
       "cartilaginous fishes        143\n",
       "cow-nose rays                 2\n",
       "dolphins                     38\n",
       "rorquals                      1\n",
       "Name: sp_common, dtype: int64"
      ]
     },
     "execution_count": 29,
     "metadata": {},
     "output_type": "execute_result"
    }
   ],
   "source": [
    "#Count the observations by common name\n",
    "grpSpCommon = dfSeamap.groupby('sp_common')\n",
    "grpSpCommon['sp_common'].count()"
   ]
  },
  {
   "cell_type": "markdown",
   "metadata": {},
   "source": [
    "We can also show *all* the summary stats with the dataFrame's `describe` function."
   ]
  },
  {
   "cell_type": "code",
   "execution_count": 30,
   "metadata": {},
   "outputs": [
    {
     "data": {
      "text/html": [
       "<div>\n",
       "<style scoped>\n",
       "    .dataframe tbody tr th:only-of-type {\n",
       "        vertical-align: middle;\n",
       "    }\n",
       "\n",
       "    .dataframe tbody tr th {\n",
       "        vertical-align: top;\n",
       "    }\n",
       "\n",
       "    .dataframe thead tr th {\n",
       "        text-align: left;\n",
       "    }\n",
       "\n",
       "    .dataframe thead tr:last-of-type th {\n",
       "        text-align: right;\n",
       "    }\n",
       "</style>\n",
       "<table border=\"1\" class=\"dataframe\">\n",
       "  <thead>\n",
       "    <tr>\n",
       "      <th></th>\n",
       "      <th colspan=\"8\" halign=\"left\">ID</th>\n",
       "      <th colspan=\"2\" halign=\"left\">datasetid</th>\n",
       "      <th>...</th>\n",
       "      <th colspan=\"2\" halign=\"left\">sp_tsn</th>\n",
       "      <th colspan=\"8\" halign=\"left\">sp_count</th>\n",
       "    </tr>\n",
       "    <tr>\n",
       "      <th></th>\n",
       "      <th>count</th>\n",
       "      <th>mean</th>\n",
       "      <th>std</th>\n",
       "      <th>min</th>\n",
       "      <th>25%</th>\n",
       "      <th>50%</th>\n",
       "      <th>75%</th>\n",
       "      <th>max</th>\n",
       "      <th>count</th>\n",
       "      <th>mean</th>\n",
       "      <th>...</th>\n",
       "      <th>75%</th>\n",
       "      <th>max</th>\n",
       "      <th>count</th>\n",
       "      <th>mean</th>\n",
       "      <th>std</th>\n",
       "      <th>min</th>\n",
       "      <th>25%</th>\n",
       "      <th>50%</th>\n",
       "      <th>75%</th>\n",
       "      <th>max</th>\n",
       "    </tr>\n",
       "    <tr>\n",
       "      <th>sp_common</th>\n",
       "      <th></th>\n",
       "      <th></th>\n",
       "      <th></th>\n",
       "      <th></th>\n",
       "      <th></th>\n",
       "      <th></th>\n",
       "      <th></th>\n",
       "      <th></th>\n",
       "      <th></th>\n",
       "      <th></th>\n",
       "      <th></th>\n",
       "      <th></th>\n",
       "      <th></th>\n",
       "      <th></th>\n",
       "      <th></th>\n",
       "      <th></th>\n",
       "      <th></th>\n",
       "      <th></th>\n",
       "      <th></th>\n",
       "      <th></th>\n",
       "      <th></th>\n",
       "    </tr>\n",
       "  </thead>\n",
       "  <tbody>\n",
       "    <tr>\n",
       "      <td>Atlantic Manta</td>\n",
       "      <td>24.0</td>\n",
       "      <td>1223.500000</td>\n",
       "      <td>7.071068</td>\n",
       "      <td>1212.0</td>\n",
       "      <td>1217.75</td>\n",
       "      <td>1223.5</td>\n",
       "      <td>1229.25</td>\n",
       "      <td>1235.0</td>\n",
       "      <td>24.0</td>\n",
       "      <td>400.0</td>\n",
       "      <td>...</td>\n",
       "      <td>160992.0</td>\n",
       "      <td>160992.0</td>\n",
       "      <td>24.0</td>\n",
       "      <td>1.291667</td>\n",
       "      <td>1.082636</td>\n",
       "      <td>1.0</td>\n",
       "      <td>1.00</td>\n",
       "      <td>1.0</td>\n",
       "      <td>1.00</td>\n",
       "      <td>6.0</td>\n",
       "    </tr>\n",
       "    <tr>\n",
       "      <td>Atlantic Ridley</td>\n",
       "      <td>5.0</td>\n",
       "      <td>1209.000000</td>\n",
       "      <td>1.581139</td>\n",
       "      <td>1207.0</td>\n",
       "      <td>1208.00</td>\n",
       "      <td>1209.0</td>\n",
       "      <td>1210.00</td>\n",
       "      <td>1211.0</td>\n",
       "      <td>5.0</td>\n",
       "      <td>400.0</td>\n",
       "      <td>...</td>\n",
       "      <td>551770.0</td>\n",
       "      <td>551770.0</td>\n",
       "      <td>5.0</td>\n",
       "      <td>1.200000</td>\n",
       "      <td>0.447214</td>\n",
       "      <td>1.0</td>\n",
       "      <td>1.00</td>\n",
       "      <td>1.0</td>\n",
       "      <td>1.00</td>\n",
       "      <td>2.0</td>\n",
       "    </tr>\n",
       "    <tr>\n",
       "      <td>Basking Shark</td>\n",
       "      <td>29.0</td>\n",
       "      <td>1124.000000</td>\n",
       "      <td>8.514693</td>\n",
       "      <td>1110.0</td>\n",
       "      <td>1117.00</td>\n",
       "      <td>1124.0</td>\n",
       "      <td>1131.00</td>\n",
       "      <td>1138.0</td>\n",
       "      <td>29.0</td>\n",
       "      <td>400.0</td>\n",
       "      <td>...</td>\n",
       "      <td>159907.0</td>\n",
       "      <td>159907.0</td>\n",
       "      <td>29.0</td>\n",
       "      <td>1.655172</td>\n",
       "      <td>1.369981</td>\n",
       "      <td>1.0</td>\n",
       "      <td>1.00</td>\n",
       "      <td>1.0</td>\n",
       "      <td>1.00</td>\n",
       "      <td>6.0</td>\n",
       "    </tr>\n",
       "    <tr>\n",
       "      <td>Bottlenose Dolphin</td>\n",
       "      <td>849.0</td>\n",
       "      <td>1729.000000</td>\n",
       "      <td>245.229484</td>\n",
       "      <td>1305.0</td>\n",
       "      <td>1517.00</td>\n",
       "      <td>1729.0</td>\n",
       "      <td>1941.00</td>\n",
       "      <td>2153.0</td>\n",
       "      <td>849.0</td>\n",
       "      <td>400.0</td>\n",
       "      <td>...</td>\n",
       "      <td>180426.0</td>\n",
       "      <td>180426.0</td>\n",
       "      <td>849.0</td>\n",
       "      <td>6.914016</td>\n",
       "      <td>10.393934</td>\n",
       "      <td>1.0</td>\n",
       "      <td>2.00</td>\n",
       "      <td>4.0</td>\n",
       "      <td>8.00</td>\n",
       "      <td>225.0</td>\n",
       "    </tr>\n",
       "    <tr>\n",
       "      <td>Common Dolphin</td>\n",
       "      <td>16.0</td>\n",
       "      <td>1146.500000</td>\n",
       "      <td>4.760952</td>\n",
       "      <td>1139.0</td>\n",
       "      <td>1142.75</td>\n",
       "      <td>1146.5</td>\n",
       "      <td>1150.25</td>\n",
       "      <td>1154.0</td>\n",
       "      <td>16.0</td>\n",
       "      <td>400.0</td>\n",
       "      <td>...</td>\n",
       "      <td>180438.0</td>\n",
       "      <td>180438.0</td>\n",
       "      <td>16.0</td>\n",
       "      <td>17.312500</td>\n",
       "      <td>19.296697</td>\n",
       "      <td>1.0</td>\n",
       "      <td>2.00</td>\n",
       "      <td>11.5</td>\n",
       "      <td>23.00</td>\n",
       "      <td>60.0</td>\n",
       "    </tr>\n",
       "    <tr>\n",
       "      <td>Fin Whale</td>\n",
       "      <td>8.0</td>\n",
       "      <td>5.500000</td>\n",
       "      <td>2.449490</td>\n",
       "      <td>2.0</td>\n",
       "      <td>3.75</td>\n",
       "      <td>5.5</td>\n",
       "      <td>7.25</td>\n",
       "      <td>9.0</td>\n",
       "      <td>8.0</td>\n",
       "      <td>400.0</td>\n",
       "      <td>...</td>\n",
       "      <td>180527.0</td>\n",
       "      <td>180527.0</td>\n",
       "      <td>8.0</td>\n",
       "      <td>3.250000</td>\n",
       "      <td>1.982062</td>\n",
       "      <td>1.0</td>\n",
       "      <td>1.75</td>\n",
       "      <td>3.0</td>\n",
       "      <td>4.50</td>\n",
       "      <td>6.0</td>\n",
       "    </tr>\n",
       "    <tr>\n",
       "      <td>Humpback Whale</td>\n",
       "      <td>4.0</td>\n",
       "      <td>1300.500000</td>\n",
       "      <td>1.290994</td>\n",
       "      <td>1299.0</td>\n",
       "      <td>1299.75</td>\n",
       "      <td>1300.5</td>\n",
       "      <td>1301.25</td>\n",
       "      <td>1302.0</td>\n",
       "      <td>4.0</td>\n",
       "      <td>400.0</td>\n",
       "      <td>...</td>\n",
       "      <td>180530.0</td>\n",
       "      <td>180530.0</td>\n",
       "      <td>4.0</td>\n",
       "      <td>1.000000</td>\n",
       "      <td>0.000000</td>\n",
       "      <td>1.0</td>\n",
       "      <td>1.00</td>\n",
       "      <td>1.0</td>\n",
       "      <td>1.00</td>\n",
       "      <td>1.0</td>\n",
       "    </tr>\n",
       "    <tr>\n",
       "      <td>Loggerhead</td>\n",
       "      <td>957.0</td>\n",
       "      <td>488.000000</td>\n",
       "      <td>276.406404</td>\n",
       "      <td>10.0</td>\n",
       "      <td>249.00</td>\n",
       "      <td>488.0</td>\n",
       "      <td>727.00</td>\n",
       "      <td>966.0</td>\n",
       "      <td>957.0</td>\n",
       "      <td>400.0</td>\n",
       "      <td>...</td>\n",
       "      <td>173830.0</td>\n",
       "      <td>173830.0</td>\n",
       "      <td>957.0</td>\n",
       "      <td>1.334378</td>\n",
       "      <td>1.206242</td>\n",
       "      <td>1.0</td>\n",
       "      <td>1.00</td>\n",
       "      <td>1.0</td>\n",
       "      <td>1.00</td>\n",
       "      <td>18.0</td>\n",
       "    </tr>\n",
       "    <tr>\n",
       "      <td>Northern Right Whale</td>\n",
       "      <td>11.0</td>\n",
       "      <td>1198.000000</td>\n",
       "      <td>3.316625</td>\n",
       "      <td>1193.0</td>\n",
       "      <td>1195.50</td>\n",
       "      <td>1198.0</td>\n",
       "      <td>1200.50</td>\n",
       "      <td>1203.0</td>\n",
       "      <td>11.0</td>\n",
       "      <td>400.0</td>\n",
       "      <td>...</td>\n",
       "      <td>180537.0</td>\n",
       "      <td>180537.0</td>\n",
       "      <td>11.0</td>\n",
       "      <td>2.272727</td>\n",
       "      <td>1.489356</td>\n",
       "      <td>1.0</td>\n",
       "      <td>1.00</td>\n",
       "      <td>2.0</td>\n",
       "      <td>2.50</td>\n",
       "      <td>5.0</td>\n",
       "    </tr>\n",
       "    <tr>\n",
       "      <td>Ocean Sunfish</td>\n",
       "      <td>64.0</td>\n",
       "      <td>1266.046875</td>\n",
       "      <td>19.718197</td>\n",
       "      <td>1206.0</td>\n",
       "      <td>1250.75</td>\n",
       "      <td>1266.5</td>\n",
       "      <td>1282.25</td>\n",
       "      <td>1298.0</td>\n",
       "      <td>64.0</td>\n",
       "      <td>400.0</td>\n",
       "      <td>...</td>\n",
       "      <td>173414.0</td>\n",
       "      <td>173414.0</td>\n",
       "      <td>64.0</td>\n",
       "      <td>1.109375</td>\n",
       "      <td>0.403051</td>\n",
       "      <td>1.0</td>\n",
       "      <td>1.00</td>\n",
       "      <td>1.0</td>\n",
       "      <td>1.00</td>\n",
       "      <td>3.0</td>\n",
       "    </tr>\n",
       "    <tr>\n",
       "      <td>Sea Turtles</td>\n",
       "      <td>116.0</td>\n",
       "      <td>2211.500000</td>\n",
       "      <td>33.630343</td>\n",
       "      <td>2154.0</td>\n",
       "      <td>2182.75</td>\n",
       "      <td>2211.5</td>\n",
       "      <td>2240.25</td>\n",
       "      <td>2269.0</td>\n",
       "      <td>116.0</td>\n",
       "      <td>400.0</td>\n",
       "      <td>...</td>\n",
       "      <td>173828.0</td>\n",
       "      <td>173828.0</td>\n",
       "      <td>116.0</td>\n",
       "      <td>1.094828</td>\n",
       "      <td>0.348374</td>\n",
       "      <td>1.0</td>\n",
       "      <td>1.00</td>\n",
       "      <td>1.0</td>\n",
       "      <td>1.00</td>\n",
       "      <td>3.0</td>\n",
       "    </tr>\n",
       "    <tr>\n",
       "      <td>Short-finned Pilot Whale</td>\n",
       "      <td>2.0</td>\n",
       "      <td>1204.500000</td>\n",
       "      <td>0.707107</td>\n",
       "      <td>1204.0</td>\n",
       "      <td>1204.25</td>\n",
       "      <td>1204.5</td>\n",
       "      <td>1204.75</td>\n",
       "      <td>1205.0</td>\n",
       "      <td>2.0</td>\n",
       "      <td>400.0</td>\n",
       "      <td>...</td>\n",
       "      <td>180466.0</td>\n",
       "      <td>180466.0</td>\n",
       "      <td>2.0</td>\n",
       "      <td>12.000000</td>\n",
       "      <td>5.656854</td>\n",
       "      <td>8.0</td>\n",
       "      <td>10.00</td>\n",
       "      <td>12.0</td>\n",
       "      <td>14.00</td>\n",
       "      <td>16.0</td>\n",
       "    </tr>\n",
       "    <tr>\n",
       "      <td>cartilaginous fishes</td>\n",
       "      <td>143.0</td>\n",
       "      <td>1038.000000</td>\n",
       "      <td>41.424630</td>\n",
       "      <td>967.0</td>\n",
       "      <td>1002.50</td>\n",
       "      <td>1038.0</td>\n",
       "      <td>1073.50</td>\n",
       "      <td>1109.0</td>\n",
       "      <td>143.0</td>\n",
       "      <td>400.0</td>\n",
       "      <td>...</td>\n",
       "      <td>159785.0</td>\n",
       "      <td>159785.0</td>\n",
       "      <td>143.0</td>\n",
       "      <td>1.797203</td>\n",
       "      <td>2.546910</td>\n",
       "      <td>1.0</td>\n",
       "      <td>1.00</td>\n",
       "      <td>1.0</td>\n",
       "      <td>1.00</td>\n",
       "      <td>18.0</td>\n",
       "    </tr>\n",
       "    <tr>\n",
       "      <td>cow-nose rays</td>\n",
       "      <td>2.0</td>\n",
       "      <td>1303.500000</td>\n",
       "      <td>0.707107</td>\n",
       "      <td>1303.0</td>\n",
       "      <td>1303.25</td>\n",
       "      <td>1303.5</td>\n",
       "      <td>1303.75</td>\n",
       "      <td>1304.0</td>\n",
       "      <td>2.0</td>\n",
       "      <td>400.0</td>\n",
       "      <td>...</td>\n",
       "      <td>161003.0</td>\n",
       "      <td>161003.0</td>\n",
       "      <td>2.0</td>\n",
       "      <td>14.500000</td>\n",
       "      <td>7.778175</td>\n",
       "      <td>9.0</td>\n",
       "      <td>11.75</td>\n",
       "      <td>14.5</td>\n",
       "      <td>17.25</td>\n",
       "      <td>20.0</td>\n",
       "    </tr>\n",
       "    <tr>\n",
       "      <td>dolphins</td>\n",
       "      <td>38.0</td>\n",
       "      <td>1173.500000</td>\n",
       "      <td>11.113055</td>\n",
       "      <td>1155.0</td>\n",
       "      <td>1164.25</td>\n",
       "      <td>1173.5</td>\n",
       "      <td>1182.75</td>\n",
       "      <td>1192.0</td>\n",
       "      <td>38.0</td>\n",
       "      <td>400.0</td>\n",
       "      <td>...</td>\n",
       "      <td>180415.0</td>\n",
       "      <td>180415.0</td>\n",
       "      <td>38.0</td>\n",
       "      <td>7.263158</td>\n",
       "      <td>8.800136</td>\n",
       "      <td>1.0</td>\n",
       "      <td>2.00</td>\n",
       "      <td>3.0</td>\n",
       "      <td>10.00</td>\n",
       "      <td>40.0</td>\n",
       "    </tr>\n",
       "    <tr>\n",
       "      <td>rorquals</td>\n",
       "      <td>1.0</td>\n",
       "      <td>1.000000</td>\n",
       "      <td>NaN</td>\n",
       "      <td>1.0</td>\n",
       "      <td>1.00</td>\n",
       "      <td>1.0</td>\n",
       "      <td>1.00</td>\n",
       "      <td>1.0</td>\n",
       "      <td>1.0</td>\n",
       "      <td>400.0</td>\n",
       "      <td>...</td>\n",
       "      <td>180522.0</td>\n",
       "      <td>180522.0</td>\n",
       "      <td>1.0</td>\n",
       "      <td>2.000000</td>\n",
       "      <td>NaN</td>\n",
       "      <td>2.0</td>\n",
       "      <td>2.00</td>\n",
       "      <td>2.0</td>\n",
       "      <td>2.00</td>\n",
       "      <td>2.0</td>\n",
       "    </tr>\n",
       "  </tbody>\n",
       "</table>\n",
       "<p>16 rows × 56 columns</p>\n",
       "</div>"
      ],
      "text/plain": [
       "                             ID                                            \\\n",
       "                          count         mean         std     min      25%   \n",
       "sp_common                                                                   \n",
       "Atlantic Manta             24.0  1223.500000    7.071068  1212.0  1217.75   \n",
       "Atlantic Ridley             5.0  1209.000000    1.581139  1207.0  1208.00   \n",
       "Basking Shark              29.0  1124.000000    8.514693  1110.0  1117.00   \n",
       "Bottlenose Dolphin        849.0  1729.000000  245.229484  1305.0  1517.00   \n",
       "Common Dolphin             16.0  1146.500000    4.760952  1139.0  1142.75   \n",
       "Fin Whale                   8.0     5.500000    2.449490     2.0     3.75   \n",
       "Humpback Whale              4.0  1300.500000    1.290994  1299.0  1299.75   \n",
       "Loggerhead                957.0   488.000000  276.406404    10.0   249.00   \n",
       "Northern Right Whale       11.0  1198.000000    3.316625  1193.0  1195.50   \n",
       "Ocean Sunfish              64.0  1266.046875   19.718197  1206.0  1250.75   \n",
       "Sea Turtles               116.0  2211.500000   33.630343  2154.0  2182.75   \n",
       "Short-finned Pilot Whale    2.0  1204.500000    0.707107  1204.0  1204.25   \n",
       "cartilaginous fishes      143.0  1038.000000   41.424630   967.0  1002.50   \n",
       "cow-nose rays               2.0  1303.500000    0.707107  1303.0  1303.25   \n",
       "dolphins                   38.0  1173.500000   11.113055  1155.0  1164.25   \n",
       "rorquals                    1.0     1.000000         NaN     1.0     1.00   \n",
       "\n",
       "                                                  datasetid         ...  \\\n",
       "                             50%      75%     max     count   mean  ...   \n",
       "sp_common                                                           ...   \n",
       "Atlantic Manta            1223.5  1229.25  1235.0      24.0  400.0  ...   \n",
       "Atlantic Ridley           1209.0  1210.00  1211.0       5.0  400.0  ...   \n",
       "Basking Shark             1124.0  1131.00  1138.0      29.0  400.0  ...   \n",
       "Bottlenose Dolphin        1729.0  1941.00  2153.0     849.0  400.0  ...   \n",
       "Common Dolphin            1146.5  1150.25  1154.0      16.0  400.0  ...   \n",
       "Fin Whale                    5.5     7.25     9.0       8.0  400.0  ...   \n",
       "Humpback Whale            1300.5  1301.25  1302.0       4.0  400.0  ...   \n",
       "Loggerhead                 488.0   727.00   966.0     957.0  400.0  ...   \n",
       "Northern Right Whale      1198.0  1200.50  1203.0      11.0  400.0  ...   \n",
       "Ocean Sunfish             1266.5  1282.25  1298.0      64.0  400.0  ...   \n",
       "Sea Turtles               2211.5  2240.25  2269.0     116.0  400.0  ...   \n",
       "Short-finned Pilot Whale  1204.5  1204.75  1205.0       2.0  400.0  ...   \n",
       "cartilaginous fishes      1038.0  1073.50  1109.0     143.0  400.0  ...   \n",
       "cow-nose rays             1303.5  1303.75  1304.0       2.0  400.0  ...   \n",
       "dolphins                  1173.5  1182.75  1192.0      38.0  400.0  ...   \n",
       "rorquals                     1.0     1.00     1.0       1.0  400.0  ...   \n",
       "\n",
       "                            sp_tsn           sp_count                        \\\n",
       "                               75%       max    count       mean        std   \n",
       "sp_common                                                                     \n",
       "Atlantic Manta            160992.0  160992.0     24.0   1.291667   1.082636   \n",
       "Atlantic Ridley           551770.0  551770.0      5.0   1.200000   0.447214   \n",
       "Basking Shark             159907.0  159907.0     29.0   1.655172   1.369981   \n",
       "Bottlenose Dolphin        180426.0  180426.0    849.0   6.914016  10.393934   \n",
       "Common Dolphin            180438.0  180438.0     16.0  17.312500  19.296697   \n",
       "Fin Whale                 180527.0  180527.0      8.0   3.250000   1.982062   \n",
       "Humpback Whale            180530.0  180530.0      4.0   1.000000   0.000000   \n",
       "Loggerhead                173830.0  173830.0    957.0   1.334378   1.206242   \n",
       "Northern Right Whale      180537.0  180537.0     11.0   2.272727   1.489356   \n",
       "Ocean Sunfish             173414.0  173414.0     64.0   1.109375   0.403051   \n",
       "Sea Turtles               173828.0  173828.0    116.0   1.094828   0.348374   \n",
       "Short-finned Pilot Whale  180466.0  180466.0      2.0  12.000000   5.656854   \n",
       "cartilaginous fishes      159785.0  159785.0    143.0   1.797203   2.546910   \n",
       "cow-nose rays             161003.0  161003.0      2.0  14.500000   7.778175   \n",
       "dolphins                  180415.0  180415.0     38.0   7.263158   8.800136   \n",
       "rorquals                  180522.0  180522.0      1.0   2.000000        NaN   \n",
       "\n",
       "                                                          \n",
       "                          min    25%   50%    75%    max  \n",
       "sp_common                                                 \n",
       "Atlantic Manta            1.0   1.00   1.0   1.00    6.0  \n",
       "Atlantic Ridley           1.0   1.00   1.0   1.00    2.0  \n",
       "Basking Shark             1.0   1.00   1.0   1.00    6.0  \n",
       "Bottlenose Dolphin        1.0   2.00   4.0   8.00  225.0  \n",
       "Common Dolphin            1.0   2.00  11.5  23.00   60.0  \n",
       "Fin Whale                 1.0   1.75   3.0   4.50    6.0  \n",
       "Humpback Whale            1.0   1.00   1.0   1.00    1.0  \n",
       "Loggerhead                1.0   1.00   1.0   1.00   18.0  \n",
       "Northern Right Whale      1.0   1.00   2.0   2.50    5.0  \n",
       "Ocean Sunfish             1.0   1.00   1.0   1.00    3.0  \n",
       "Sea Turtles               1.0   1.00   1.0   1.00    3.0  \n",
       "Short-finned Pilot Whale  8.0  10.00  12.0  14.00   16.0  \n",
       "cartilaginous fishes      1.0   1.00   1.0   1.00   18.0  \n",
       "cow-nose rays             9.0  11.75  14.5  17.25   20.0  \n",
       "dolphins                  1.0   2.00   3.0  10.00   40.0  \n",
       "rorquals                  2.0   2.00   2.0   2.00    2.0  \n",
       "\n",
       "[16 rows x 56 columns]"
      ]
     },
     "execution_count": 30,
     "metadata": {},
     "output_type": "execute_result"
    }
   ],
   "source": [
    "grpSpCommon.describe()"
   ]
  },
  {
   "cell_type": "markdown",
   "metadata": {},
   "source": [
    "## Reshaping tables\n",
    "In addition to grouping data, we can \"pivot\" the data, summarizing by one field and aggregating values across other fields. Let's look at an example where we display "
   ]
  },
  {
   "cell_type": "code",
   "execution_count": 31,
   "metadata": {},
   "outputs": [],
   "source": [
    "#Make a copy of the data\n",
    "dfSeamapCopy = dfSeamap.copy(deep=True)"
   ]
  },
  {
   "cell_type": "code",
   "execution_count": 32,
   "metadata": {},
   "outputs": [
    {
     "ename": "AttributeError",
     "evalue": "Can only use .dt accessor with datetimelike values",
     "output_type": "error",
     "traceback": [
      "\u001b[1;31m---------------------------------------------------------------------------\u001b[0m",
      "\u001b[1;31mAttributeError\u001b[0m                            Traceback (most recent call last)",
      "\u001b[1;32m<ipython-input-32-a6de803d6956>\u001b[0m in \u001b[0;36m<module>\u001b[1;34m\u001b[0m\n\u001b[0;32m      1\u001b[0m \u001b[1;31m#Add a \"day\" column (https://pandas.pydata.org/pandas-docs/stable/api.html#datetimelike-properties)\u001b[0m\u001b[1;33m\u001b[0m\u001b[1;33m\u001b[0m\u001b[1;33m\u001b[0m\u001b[0m\n\u001b[1;32m----> 2\u001b[1;33m \u001b[0mdfSeamapCopy\u001b[0m\u001b[1;33m[\u001b[0m\u001b[1;34m'week_num'\u001b[0m\u001b[1;33m]\u001b[0m \u001b[1;33m=\u001b[0m \u001b[0mdfSeamapCopy\u001b[0m\u001b[1;33m[\u001b[0m\u001b[1;34m'obs_date'\u001b[0m\u001b[1;33m]\u001b[0m\u001b[1;33m.\u001b[0m\u001b[0mdt\u001b[0m\u001b[1;33m.\u001b[0m\u001b[0mweekofyear\u001b[0m\u001b[1;33m\u001b[0m\u001b[1;33m\u001b[0m\u001b[0m\n\u001b[0m\u001b[0;32m      3\u001b[0m \u001b[0mdfSeamapCopy\u001b[0m\u001b[1;33m.\u001b[0m\u001b[0mhead\u001b[0m\u001b[1;33m(\u001b[0m\u001b[1;33m)\u001b[0m\u001b[1;33m\u001b[0m\u001b[1;33m\u001b[0m\u001b[0m\n",
      "\u001b[1;32mC:\\Conda\\ENV859\\lib\\site-packages\\pandas\\core\\generic.py\u001b[0m in \u001b[0;36m__getattr__\u001b[1;34m(self, name)\u001b[0m\n\u001b[0;32m   5173\u001b[0m             \u001b[1;32mor\u001b[0m \u001b[0mname\u001b[0m \u001b[1;32min\u001b[0m \u001b[0mself\u001b[0m\u001b[1;33m.\u001b[0m\u001b[0m_accessors\u001b[0m\u001b[1;33m\u001b[0m\u001b[1;33m\u001b[0m\u001b[0m\n\u001b[0;32m   5174\u001b[0m         ):\n\u001b[1;32m-> 5175\u001b[1;33m             \u001b[1;32mreturn\u001b[0m \u001b[0mobject\u001b[0m\u001b[1;33m.\u001b[0m\u001b[0m__getattribute__\u001b[0m\u001b[1;33m(\u001b[0m\u001b[0mself\u001b[0m\u001b[1;33m,\u001b[0m \u001b[0mname\u001b[0m\u001b[1;33m)\u001b[0m\u001b[1;33m\u001b[0m\u001b[1;33m\u001b[0m\u001b[0m\n\u001b[0m\u001b[0;32m   5176\u001b[0m         \u001b[1;32melse\u001b[0m\u001b[1;33m:\u001b[0m\u001b[1;33m\u001b[0m\u001b[1;33m\u001b[0m\u001b[0m\n\u001b[0;32m   5177\u001b[0m             \u001b[1;32mif\u001b[0m \u001b[0mself\u001b[0m\u001b[1;33m.\u001b[0m\u001b[0m_info_axis\u001b[0m\u001b[1;33m.\u001b[0m\u001b[0m_can_hold_identifiers_and_holds_name\u001b[0m\u001b[1;33m(\u001b[0m\u001b[0mname\u001b[0m\u001b[1;33m)\u001b[0m\u001b[1;33m:\u001b[0m\u001b[1;33m\u001b[0m\u001b[1;33m\u001b[0m\u001b[0m\n",
      "\u001b[1;32mC:\\Conda\\ENV859\\lib\\site-packages\\pandas\\core\\accessor.py\u001b[0m in \u001b[0;36m__get__\u001b[1;34m(self, obj, cls)\u001b[0m\n\u001b[0;32m    173\u001b[0m             \u001b[1;31m# we're accessing the attribute of the class, i.e., Dataset.geo\u001b[0m\u001b[1;33m\u001b[0m\u001b[1;33m\u001b[0m\u001b[1;33m\u001b[0m\u001b[0m\n\u001b[0;32m    174\u001b[0m             \u001b[1;32mreturn\u001b[0m \u001b[0mself\u001b[0m\u001b[1;33m.\u001b[0m\u001b[0m_accessor\u001b[0m\u001b[1;33m\u001b[0m\u001b[1;33m\u001b[0m\u001b[0m\n\u001b[1;32m--> 175\u001b[1;33m         \u001b[0maccessor_obj\u001b[0m \u001b[1;33m=\u001b[0m \u001b[0mself\u001b[0m\u001b[1;33m.\u001b[0m\u001b[0m_accessor\u001b[0m\u001b[1;33m(\u001b[0m\u001b[0mobj\u001b[0m\u001b[1;33m)\u001b[0m\u001b[1;33m\u001b[0m\u001b[1;33m\u001b[0m\u001b[0m\n\u001b[0m\u001b[0;32m    176\u001b[0m         \u001b[1;31m# Replace the property with the accessor object. Inspired by:\u001b[0m\u001b[1;33m\u001b[0m\u001b[1;33m\u001b[0m\u001b[1;33m\u001b[0m\u001b[0m\n\u001b[0;32m    177\u001b[0m         \u001b[1;31m# http://www.pydanny.com/cached-property.html\u001b[0m\u001b[1;33m\u001b[0m\u001b[1;33m\u001b[0m\u001b[1;33m\u001b[0m\u001b[0m\n",
      "\u001b[1;32mC:\\Conda\\ENV859\\lib\\site-packages\\pandas\\core\\indexes\\accessors.py\u001b[0m in \u001b[0;36m__new__\u001b[1;34m(cls, data)\u001b[0m\n\u001b[0;32m    341\u001b[0m             \u001b[1;32mpass\u001b[0m  \u001b[1;31m# we raise an attribute error anyway\u001b[0m\u001b[1;33m\u001b[0m\u001b[1;33m\u001b[0m\u001b[0m\n\u001b[0;32m    342\u001b[0m \u001b[1;33m\u001b[0m\u001b[0m\n\u001b[1;32m--> 343\u001b[1;33m         \u001b[1;32mraise\u001b[0m \u001b[0mAttributeError\u001b[0m\u001b[1;33m(\u001b[0m\u001b[1;34m\"Can only use .dt accessor with datetimelike \"\u001b[0m \u001b[1;34m\"values\"\u001b[0m\u001b[1;33m)\u001b[0m\u001b[1;33m\u001b[0m\u001b[1;33m\u001b[0m\u001b[0m\n\u001b[0m",
      "\u001b[1;31mAttributeError\u001b[0m: Can only use .dt accessor with datetimelike values"
     ]
    }
   ],
   "source": [
    "#Add a \"day\" column (https://pandas.pydata.org/pandas-docs/stable/api.html#datetimelike-properties)\n",
    "dfSeamapCopy['week_num'] = dfSeamapCopy['obs_date'].dt.weekofyear\n",
    "dfSeamapCopy.head()"
   ]
  },
  {
   "cell_type": "code",
   "execution_count": 33,
   "metadata": {},
   "outputs": [
    {
     "ename": "KeyError",
     "evalue": "'week_num'",
     "output_type": "error",
     "traceback": [
      "\u001b[1;31m---------------------------------------------------------------------------\u001b[0m",
      "\u001b[1;31mKeyError\u001b[0m                                  Traceback (most recent call last)",
      "\u001b[1;32m<ipython-input-33-f2246a92a14c>\u001b[0m in \u001b[0;36m<module>\u001b[1;34m\u001b[0m\n\u001b[0;32m      1\u001b[0m \u001b[1;31m#Pivot to a table listing row=species, col = day of year, values = latitude\u001b[0m\u001b[1;33m\u001b[0m\u001b[1;33m\u001b[0m\u001b[1;33m\u001b[0m\u001b[0m\n\u001b[1;32m----> 2\u001b[1;33m \u001b[0mdfLat\u001b[0m \u001b[1;33m=\u001b[0m \u001b[0mdfSeamapCopy\u001b[0m\u001b[1;33m.\u001b[0m\u001b[0mpivot_table\u001b[0m\u001b[1;33m(\u001b[0m\u001b[0mindex\u001b[0m\u001b[1;33m=\u001b[0m\u001b[1;34m'sp_common'\u001b[0m\u001b[1;33m,\u001b[0m\u001b[0mcolumns\u001b[0m\u001b[1;33m=\u001b[0m\u001b[1;34m'week_num'\u001b[0m\u001b[1;33m,\u001b[0m\u001b[0mvalues\u001b[0m\u001b[1;33m=\u001b[0m\u001b[1;34m'latitude'\u001b[0m\u001b[1;33m)\u001b[0m\u001b[1;33m\u001b[0m\u001b[1;33m\u001b[0m\u001b[0m\n\u001b[0m\u001b[0;32m      3\u001b[0m \u001b[0mdfLat\u001b[0m\u001b[1;33m.\u001b[0m\u001b[0mhead\u001b[0m\u001b[1;33m(\u001b[0m\u001b[1;33m)\u001b[0m\u001b[1;33m\u001b[0m\u001b[1;33m\u001b[0m\u001b[0m\n",
      "\u001b[1;32mC:\\Conda\\ENV859\\lib\\site-packages\\pandas\\core\\frame.py\u001b[0m in \u001b[0;36mpivot_table\u001b[1;34m(self, values, index, columns, aggfunc, fill_value, margins, dropna, margins_name, observed)\u001b[0m\n\u001b[0;32m   6072\u001b[0m             \u001b[0mdropna\u001b[0m\u001b[1;33m=\u001b[0m\u001b[0mdropna\u001b[0m\u001b[1;33m,\u001b[0m\u001b[1;33m\u001b[0m\u001b[1;33m\u001b[0m\u001b[0m\n\u001b[0;32m   6073\u001b[0m             \u001b[0mmargins_name\u001b[0m\u001b[1;33m=\u001b[0m\u001b[0mmargins_name\u001b[0m\u001b[1;33m,\u001b[0m\u001b[1;33m\u001b[0m\u001b[1;33m\u001b[0m\u001b[0m\n\u001b[1;32m-> 6074\u001b[1;33m             \u001b[0mobserved\u001b[0m\u001b[1;33m=\u001b[0m\u001b[0mobserved\u001b[0m\u001b[1;33m,\u001b[0m\u001b[1;33m\u001b[0m\u001b[1;33m\u001b[0m\u001b[0m\n\u001b[0m\u001b[0;32m   6075\u001b[0m         )\n\u001b[0;32m   6076\u001b[0m \u001b[1;33m\u001b[0m\u001b[0m\n",
      "\u001b[1;32mC:\\Conda\\ENV859\\lib\\site-packages\\pandas\\core\\reshape\\pivot.py\u001b[0m in \u001b[0;36mpivot_table\u001b[1;34m(data, values, index, columns, aggfunc, fill_value, margins, dropna, margins_name, observed)\u001b[0m\n\u001b[0;32m     93\u001b[0m         \u001b[0mvalues\u001b[0m \u001b[1;33m=\u001b[0m \u001b[0mlist\u001b[0m\u001b[1;33m(\u001b[0m\u001b[0mvalues\u001b[0m\u001b[1;33m)\u001b[0m\u001b[1;33m\u001b[0m\u001b[1;33m\u001b[0m\u001b[0m\n\u001b[0;32m     94\u001b[0m \u001b[1;33m\u001b[0m\u001b[0m\n\u001b[1;32m---> 95\u001b[1;33m     \u001b[0mgrouped\u001b[0m \u001b[1;33m=\u001b[0m \u001b[0mdata\u001b[0m\u001b[1;33m.\u001b[0m\u001b[0mgroupby\u001b[0m\u001b[1;33m(\u001b[0m\u001b[0mkeys\u001b[0m\u001b[1;33m,\u001b[0m \u001b[0mobserved\u001b[0m\u001b[1;33m=\u001b[0m\u001b[0mobserved\u001b[0m\u001b[1;33m)\u001b[0m\u001b[1;33m\u001b[0m\u001b[1;33m\u001b[0m\u001b[0m\n\u001b[0m\u001b[0;32m     96\u001b[0m     \u001b[0magged\u001b[0m \u001b[1;33m=\u001b[0m \u001b[0mgrouped\u001b[0m\u001b[1;33m.\u001b[0m\u001b[0magg\u001b[0m\u001b[1;33m(\u001b[0m\u001b[0maggfunc\u001b[0m\u001b[1;33m)\u001b[0m\u001b[1;33m\u001b[0m\u001b[1;33m\u001b[0m\u001b[0m\n\u001b[0;32m     97\u001b[0m     \u001b[1;32mif\u001b[0m \u001b[0mdropna\u001b[0m \u001b[1;32mand\u001b[0m \u001b[0misinstance\u001b[0m\u001b[1;33m(\u001b[0m\u001b[0magged\u001b[0m\u001b[1;33m,\u001b[0m \u001b[0mABCDataFrame\u001b[0m\u001b[1;33m)\u001b[0m \u001b[1;32mand\u001b[0m \u001b[0mlen\u001b[0m\u001b[1;33m(\u001b[0m\u001b[0magged\u001b[0m\u001b[1;33m.\u001b[0m\u001b[0mcolumns\u001b[0m\u001b[1;33m)\u001b[0m\u001b[1;33m:\u001b[0m\u001b[1;33m\u001b[0m\u001b[1;33m\u001b[0m\u001b[0m\n",
      "\u001b[1;32mC:\\Conda\\ENV859\\lib\\site-packages\\pandas\\core\\generic.py\u001b[0m in \u001b[0;36mgroupby\u001b[1;34m(self, by, axis, level, as_index, sort, group_keys, squeeze, observed, **kwargs)\u001b[0m\n\u001b[0;32m   7892\u001b[0m             \u001b[0msqueeze\u001b[0m\u001b[1;33m=\u001b[0m\u001b[0msqueeze\u001b[0m\u001b[1;33m,\u001b[0m\u001b[1;33m\u001b[0m\u001b[1;33m\u001b[0m\u001b[0m\n\u001b[0;32m   7893\u001b[0m             \u001b[0mobserved\u001b[0m\u001b[1;33m=\u001b[0m\u001b[0mobserved\u001b[0m\u001b[1;33m,\u001b[0m\u001b[1;33m\u001b[0m\u001b[1;33m\u001b[0m\u001b[0m\n\u001b[1;32m-> 7894\u001b[1;33m             \u001b[1;33m**\u001b[0m\u001b[0mkwargs\u001b[0m\u001b[1;33m\u001b[0m\u001b[1;33m\u001b[0m\u001b[0m\n\u001b[0m\u001b[0;32m   7895\u001b[0m         )\n\u001b[0;32m   7896\u001b[0m \u001b[1;33m\u001b[0m\u001b[0m\n",
      "\u001b[1;32mC:\\Conda\\ENV859\\lib\\site-packages\\pandas\\core\\groupby\\groupby.py\u001b[0m in \u001b[0;36mgroupby\u001b[1;34m(obj, by, **kwds)\u001b[0m\n\u001b[0;32m   2520\u001b[0m         \u001b[1;32mraise\u001b[0m \u001b[0mTypeError\u001b[0m\u001b[1;33m(\u001b[0m\u001b[1;34m\"invalid type: {}\"\u001b[0m\u001b[1;33m.\u001b[0m\u001b[0mformat\u001b[0m\u001b[1;33m(\u001b[0m\u001b[0mobj\u001b[0m\u001b[1;33m)\u001b[0m\u001b[1;33m)\u001b[0m\u001b[1;33m\u001b[0m\u001b[1;33m\u001b[0m\u001b[0m\n\u001b[0;32m   2521\u001b[0m \u001b[1;33m\u001b[0m\u001b[0m\n\u001b[1;32m-> 2522\u001b[1;33m     \u001b[1;32mreturn\u001b[0m \u001b[0mklass\u001b[0m\u001b[1;33m(\u001b[0m\u001b[0mobj\u001b[0m\u001b[1;33m,\u001b[0m \u001b[0mby\u001b[0m\u001b[1;33m,\u001b[0m \u001b[1;33m**\u001b[0m\u001b[0mkwds\u001b[0m\u001b[1;33m)\u001b[0m\u001b[1;33m\u001b[0m\u001b[1;33m\u001b[0m\u001b[0m\n\u001b[0m",
      "\u001b[1;32mC:\\Conda\\ENV859\\lib\\site-packages\\pandas\\core\\groupby\\groupby.py\u001b[0m in \u001b[0;36m__init__\u001b[1;34m(self, obj, keys, axis, level, grouper, exclusions, selection, as_index, sort, group_keys, squeeze, observed, **kwargs)\u001b[0m\n\u001b[0;32m    389\u001b[0m                 \u001b[0msort\u001b[0m\u001b[1;33m=\u001b[0m\u001b[0msort\u001b[0m\u001b[1;33m,\u001b[0m\u001b[1;33m\u001b[0m\u001b[1;33m\u001b[0m\u001b[0m\n\u001b[0;32m    390\u001b[0m                 \u001b[0mobserved\u001b[0m\u001b[1;33m=\u001b[0m\u001b[0mobserved\u001b[0m\u001b[1;33m,\u001b[0m\u001b[1;33m\u001b[0m\u001b[1;33m\u001b[0m\u001b[0m\n\u001b[1;32m--> 391\u001b[1;33m                 \u001b[0mmutated\u001b[0m\u001b[1;33m=\u001b[0m\u001b[0mself\u001b[0m\u001b[1;33m.\u001b[0m\u001b[0mmutated\u001b[0m\u001b[1;33m,\u001b[0m\u001b[1;33m\u001b[0m\u001b[1;33m\u001b[0m\u001b[0m\n\u001b[0m\u001b[0;32m    392\u001b[0m             )\n\u001b[0;32m    393\u001b[0m \u001b[1;33m\u001b[0m\u001b[0m\n",
      "\u001b[1;32mC:\\Conda\\ENV859\\lib\\site-packages\\pandas\\core\\groupby\\grouper.py\u001b[0m in \u001b[0;36m_get_grouper\u001b[1;34m(obj, key, axis, level, sort, observed, mutated, validate)\u001b[0m\n\u001b[0;32m    619\u001b[0m                 \u001b[0min_axis\u001b[0m\u001b[1;33m,\u001b[0m \u001b[0mname\u001b[0m\u001b[1;33m,\u001b[0m \u001b[0mlevel\u001b[0m\u001b[1;33m,\u001b[0m \u001b[0mgpr\u001b[0m \u001b[1;33m=\u001b[0m \u001b[1;32mFalse\u001b[0m\u001b[1;33m,\u001b[0m \u001b[1;32mNone\u001b[0m\u001b[1;33m,\u001b[0m \u001b[0mgpr\u001b[0m\u001b[1;33m,\u001b[0m \u001b[1;32mNone\u001b[0m\u001b[1;33m\u001b[0m\u001b[1;33m\u001b[0m\u001b[0m\n\u001b[0;32m    620\u001b[0m             \u001b[1;32melse\u001b[0m\u001b[1;33m:\u001b[0m\u001b[1;33m\u001b[0m\u001b[1;33m\u001b[0m\u001b[0m\n\u001b[1;32m--> 621\u001b[1;33m                 \u001b[1;32mraise\u001b[0m \u001b[0mKeyError\u001b[0m\u001b[1;33m(\u001b[0m\u001b[0mgpr\u001b[0m\u001b[1;33m)\u001b[0m\u001b[1;33m\u001b[0m\u001b[1;33m\u001b[0m\u001b[0m\n\u001b[0m\u001b[0;32m    622\u001b[0m         \u001b[1;32melif\u001b[0m \u001b[0misinstance\u001b[0m\u001b[1;33m(\u001b[0m\u001b[0mgpr\u001b[0m\u001b[1;33m,\u001b[0m \u001b[0mGrouper\u001b[0m\u001b[1;33m)\u001b[0m \u001b[1;32mand\u001b[0m \u001b[0mgpr\u001b[0m\u001b[1;33m.\u001b[0m\u001b[0mkey\u001b[0m \u001b[1;32mis\u001b[0m \u001b[1;32mnot\u001b[0m \u001b[1;32mNone\u001b[0m\u001b[1;33m:\u001b[0m\u001b[1;33m\u001b[0m\u001b[1;33m\u001b[0m\u001b[0m\n\u001b[0;32m    623\u001b[0m             \u001b[1;31m# Add key to exclusions\u001b[0m\u001b[1;33m\u001b[0m\u001b[1;33m\u001b[0m\u001b[1;33m\u001b[0m\u001b[0m\n",
      "\u001b[1;31mKeyError\u001b[0m: 'week_num'"
     ]
    }
   ],
   "source": [
    "#Pivot to a table listing row=species, col = day of year, values = latitude\n",
    "dfLat = dfSeamapCopy.pivot_table(index='sp_common',columns='week_num',values='latitude')\n",
    "dfLat.head()"
   ]
  },
  {
   "cell_type": "code",
   "execution_count": null,
   "metadata": {},
   "outputs": [],
   "source": [
    "#Plot the longitudinal travel across weeks of a given species\n",
    "dfLat.loc['Bottlenose Dolphin'].plot(kind='line')"
   ]
  },
  {
   "cell_type": "markdown",
   "metadata": {},
   "source": [
    "## Joining tables\n",
    "Also like SQL, pandas can join tables. Below we'll create two tables from our aggregated data: one will list the minimum of the latitude and longitude columns, and the second will list the maximum values. Then we'll join these two tables and compute the geographic extent of each species observations. "
   ]
  },
  {
   "cell_type": "code",
   "execution_count": 34,
   "metadata": {},
   "outputs": [],
   "source": [
    "#Create dataFrames of the minimum and then maximum of the lat and lng fields\n",
    "minCoords = grpSpCommon['latitude','longitude'].min()\n",
    "maxCoords = grpSpCommon['latitude','longitude'].max()"
   ]
  },
  {
   "cell_type": "code",
   "execution_count": 35,
   "metadata": {},
   "outputs": [
    {
     "data": {
      "text/html": [
       "<div>\n",
       "<style scoped>\n",
       "    .dataframe tbody tr th:only-of-type {\n",
       "        vertical-align: middle;\n",
       "    }\n",
       "\n",
       "    .dataframe tbody tr th {\n",
       "        vertical-align: top;\n",
       "    }\n",
       "\n",
       "    .dataframe thead th {\n",
       "        text-align: right;\n",
       "    }\n",
       "</style>\n",
       "<table border=\"1\" class=\"dataframe\">\n",
       "  <thead>\n",
       "    <tr style=\"text-align: right;\">\n",
       "      <th></th>\n",
       "      <th>latitude</th>\n",
       "      <th>longitude</th>\n",
       "    </tr>\n",
       "    <tr>\n",
       "      <th>sp_common</th>\n",
       "      <th></th>\n",
       "      <th></th>\n",
       "    </tr>\n",
       "  </thead>\n",
       "  <tbody>\n",
       "    <tr>\n",
       "      <td>Atlantic Manta</td>\n",
       "      <td>34.20</td>\n",
       "      <td>-76.48</td>\n",
       "    </tr>\n",
       "    <tr>\n",
       "      <td>Atlantic Ridley</td>\n",
       "      <td>33.52</td>\n",
       "      <td>-77.53</td>\n",
       "    </tr>\n",
       "    <tr>\n",
       "      <td>Basking Shark</td>\n",
       "      <td>34.14</td>\n",
       "      <td>-77.31</td>\n",
       "    </tr>\n",
       "    <tr>\n",
       "      <td>Bottlenose Dolphin</td>\n",
       "      <td>33.41</td>\n",
       "      <td>-78.40</td>\n",
       "    </tr>\n",
       "    <tr>\n",
       "      <td>Common Dolphin</td>\n",
       "      <td>33.45</td>\n",
       "      <td>-77.47</td>\n",
       "    </tr>\n",
       "  </tbody>\n",
       "</table>\n",
       "</div>"
      ],
      "text/plain": [
       "                    latitude  longitude\n",
       "sp_common                              \n",
       "Atlantic Manta         34.20     -76.48\n",
       "Atlantic Ridley        33.52     -77.53\n",
       "Basking Shark          34.14     -77.31\n",
       "Bottlenose Dolphin     33.41     -78.40\n",
       "Common Dolphin         33.45     -77.47"
      ]
     },
     "execution_count": 35,
     "metadata": {},
     "output_type": "execute_result"
    }
   ],
   "source": [
    "# Have a look at what is returned (for the min table)\n",
    "minCoords.head()"
   ]
  },
  {
   "cell_type": "code",
   "execution_count": 36,
   "metadata": {},
   "outputs": [
    {
     "data": {
      "text/html": [
       "<div>\n",
       "<style scoped>\n",
       "    .dataframe tbody tr th:only-of-type {\n",
       "        vertical-align: middle;\n",
       "    }\n",
       "\n",
       "    .dataframe tbody tr th {\n",
       "        vertical-align: top;\n",
       "    }\n",
       "\n",
       "    .dataframe thead th {\n",
       "        text-align: right;\n",
       "    }\n",
       "</style>\n",
       "<table border=\"1\" class=\"dataframe\">\n",
       "  <thead>\n",
       "    <tr style=\"text-align: right;\">\n",
       "      <th></th>\n",
       "      <th>latitude_x</th>\n",
       "      <th>longitude_x</th>\n",
       "      <th>latitude_y</th>\n",
       "      <th>longitude_y</th>\n",
       "    </tr>\n",
       "    <tr>\n",
       "      <th>sp_common</th>\n",
       "      <th></th>\n",
       "      <th></th>\n",
       "      <th></th>\n",
       "      <th></th>\n",
       "    </tr>\n",
       "  </thead>\n",
       "  <tbody>\n",
       "    <tr>\n",
       "      <td>Atlantic Manta</td>\n",
       "      <td>34.20</td>\n",
       "      <td>-76.48</td>\n",
       "      <td>35.60</td>\n",
       "      <td>-74.86</td>\n",
       "    </tr>\n",
       "    <tr>\n",
       "      <td>Atlantic Ridley</td>\n",
       "      <td>33.52</td>\n",
       "      <td>-77.53</td>\n",
       "      <td>35.67</td>\n",
       "      <td>-74.95</td>\n",
       "    </tr>\n",
       "    <tr>\n",
       "      <td>Basking Shark</td>\n",
       "      <td>34.14</td>\n",
       "      <td>-77.31</td>\n",
       "      <td>35.67</td>\n",
       "      <td>-75.19</td>\n",
       "    </tr>\n",
       "    <tr>\n",
       "      <td>Bottlenose Dolphin</td>\n",
       "      <td>33.41</td>\n",
       "      <td>-78.40</td>\n",
       "      <td>37.40</td>\n",
       "      <td>-74.89</td>\n",
       "    </tr>\n",
       "    <tr>\n",
       "      <td>Common Dolphin</td>\n",
       "      <td>33.45</td>\n",
       "      <td>-77.47</td>\n",
       "      <td>35.67</td>\n",
       "      <td>-74.92</td>\n",
       "    </tr>\n",
       "  </tbody>\n",
       "</table>\n",
       "</div>"
      ],
      "text/plain": [
       "                    latitude_x  longitude_x  latitude_y  longitude_y\n",
       "sp_common                                                           \n",
       "Atlantic Manta           34.20       -76.48       35.60       -74.86\n",
       "Atlantic Ridley          33.52       -77.53       35.67       -74.95\n",
       "Basking Shark            34.14       -77.31       35.67       -75.19\n",
       "Bottlenose Dolphin       33.41       -78.40       37.40       -74.89\n",
       "Common Dolphin           33.45       -77.47       35.67       -74.92"
      ]
     },
     "execution_count": 36,
     "metadata": {},
     "output_type": "execute_result"
    }
   ],
   "source": [
    "#Use the Pandas 'merge' command to join the two tables\n",
    "sppExtent = pd.merge(left=minCoords,     #Specifies the left table\n",
    "                     right=maxCoords,     #Specifies the right table\n",
    "                     how = 'inner',      #Specifies the type of join\n",
    "                     left_index=True,    #Use the index of the left table as the join item\n",
    "                     right_index=True)   #Use the index of the right table as the join item\n",
    "#Have a look\n",
    "sppExtent.head()"
   ]
  },
  {
   "cell_type": "code",
   "execution_count": 37,
   "metadata": {},
   "outputs": [
    {
     "data": {
      "text/html": [
       "<div>\n",
       "<style scoped>\n",
       "    .dataframe tbody tr th:only-of-type {\n",
       "        vertical-align: middle;\n",
       "    }\n",
       "\n",
       "    .dataframe tbody tr th {\n",
       "        vertical-align: top;\n",
       "    }\n",
       "\n",
       "    .dataframe thead th {\n",
       "        text-align: right;\n",
       "    }\n",
       "</style>\n",
       "<table border=\"1\" class=\"dataframe\">\n",
       "  <thead>\n",
       "    <tr style=\"text-align: right;\">\n",
       "      <th></th>\n",
       "      <th>minX</th>\n",
       "      <th>minY</th>\n",
       "      <th>maxX</th>\n",
       "      <th>maxY</th>\n",
       "    </tr>\n",
       "    <tr>\n",
       "      <th>sp_common</th>\n",
       "      <th></th>\n",
       "      <th></th>\n",
       "      <th></th>\n",
       "      <th></th>\n",
       "    </tr>\n",
       "  </thead>\n",
       "  <tbody>\n",
       "    <tr>\n",
       "      <td>Atlantic Manta</td>\n",
       "      <td>34.20</td>\n",
       "      <td>-76.48</td>\n",
       "      <td>35.60</td>\n",
       "      <td>-74.86</td>\n",
       "    </tr>\n",
       "    <tr>\n",
       "      <td>Atlantic Ridley</td>\n",
       "      <td>33.52</td>\n",
       "      <td>-77.53</td>\n",
       "      <td>35.67</td>\n",
       "      <td>-74.95</td>\n",
       "    </tr>\n",
       "    <tr>\n",
       "      <td>Basking Shark</td>\n",
       "      <td>34.14</td>\n",
       "      <td>-77.31</td>\n",
       "      <td>35.67</td>\n",
       "      <td>-75.19</td>\n",
       "    </tr>\n",
       "    <tr>\n",
       "      <td>Bottlenose Dolphin</td>\n",
       "      <td>33.41</td>\n",
       "      <td>-78.40</td>\n",
       "      <td>37.40</td>\n",
       "      <td>-74.89</td>\n",
       "    </tr>\n",
       "    <tr>\n",
       "      <td>Common Dolphin</td>\n",
       "      <td>33.45</td>\n",
       "      <td>-77.47</td>\n",
       "      <td>35.67</td>\n",
       "      <td>-74.92</td>\n",
       "    </tr>\n",
       "  </tbody>\n",
       "</table>\n",
       "</div>"
      ],
      "text/plain": [
       "                     minX   minY   maxX   maxY\n",
       "sp_common                                     \n",
       "Atlantic Manta      34.20 -76.48  35.60 -74.86\n",
       "Atlantic Ridley     33.52 -77.53  35.67 -74.95\n",
       "Basking Shark       34.14 -77.31  35.67 -75.19\n",
       "Bottlenose Dolphin  33.41 -78.40  37.40 -74.89\n",
       "Common Dolphin      33.45 -77.47  35.67 -74.92"
      ]
     },
     "execution_count": 37,
     "metadata": {},
     "output_type": "execute_result"
    }
   ],
   "source": [
    "#Rename the columns to the values in the list provided\n",
    "sppExtent.columns = ['minX','minY','maxX','maxY']\n",
    "sppExtent.head()"
   ]
  },
  {
   "cell_type": "code",
   "execution_count": 38,
   "metadata": {},
   "outputs": [
    {
     "data": {
      "text/html": [
       "<div>\n",
       "<style scoped>\n",
       "    .dataframe tbody tr th:only-of-type {\n",
       "        vertical-align: middle;\n",
       "    }\n",
       "\n",
       "    .dataframe tbody tr th {\n",
       "        vertical-align: top;\n",
       "    }\n",
       "\n",
       "    .dataframe thead th {\n",
       "        text-align: right;\n",
       "    }\n",
       "</style>\n",
       "<table border=\"1\" class=\"dataframe\">\n",
       "  <thead>\n",
       "    <tr style=\"text-align: right;\">\n",
       "      <th></th>\n",
       "      <th>minX</th>\n",
       "      <th>minY</th>\n",
       "      <th>maxX</th>\n",
       "      <th>maxY</th>\n",
       "      <th>XRange</th>\n",
       "      <th>YRange</th>\n",
       "    </tr>\n",
       "    <tr>\n",
       "      <th>sp_common</th>\n",
       "      <th></th>\n",
       "      <th></th>\n",
       "      <th></th>\n",
       "      <th></th>\n",
       "      <th></th>\n",
       "      <th></th>\n",
       "    </tr>\n",
       "  </thead>\n",
       "  <tbody>\n",
       "    <tr>\n",
       "      <td>Atlantic Manta</td>\n",
       "      <td>34.20</td>\n",
       "      <td>-76.48</td>\n",
       "      <td>35.60</td>\n",
       "      <td>-74.86</td>\n",
       "      <td>1.40</td>\n",
       "      <td>1.62</td>\n",
       "    </tr>\n",
       "    <tr>\n",
       "      <td>Atlantic Ridley</td>\n",
       "      <td>33.52</td>\n",
       "      <td>-77.53</td>\n",
       "      <td>35.67</td>\n",
       "      <td>-74.95</td>\n",
       "      <td>2.15</td>\n",
       "      <td>2.58</td>\n",
       "    </tr>\n",
       "    <tr>\n",
       "      <td>Basking Shark</td>\n",
       "      <td>34.14</td>\n",
       "      <td>-77.31</td>\n",
       "      <td>35.67</td>\n",
       "      <td>-75.19</td>\n",
       "      <td>1.53</td>\n",
       "      <td>2.12</td>\n",
       "    </tr>\n",
       "    <tr>\n",
       "      <td>Bottlenose Dolphin</td>\n",
       "      <td>33.41</td>\n",
       "      <td>-78.40</td>\n",
       "      <td>37.40</td>\n",
       "      <td>-74.89</td>\n",
       "      <td>3.99</td>\n",
       "      <td>3.51</td>\n",
       "    </tr>\n",
       "    <tr>\n",
       "      <td>Common Dolphin</td>\n",
       "      <td>33.45</td>\n",
       "      <td>-77.47</td>\n",
       "      <td>35.67</td>\n",
       "      <td>-74.92</td>\n",
       "      <td>2.22</td>\n",
       "      <td>2.55</td>\n",
       "    </tr>\n",
       "  </tbody>\n",
       "</table>\n",
       "</div>"
      ],
      "text/plain": [
       "                     minX   minY   maxX   maxY  XRange  YRange\n",
       "sp_common                                                     \n",
       "Atlantic Manta      34.20 -76.48  35.60 -74.86    1.40    1.62\n",
       "Atlantic Ridley     33.52 -77.53  35.67 -74.95    2.15    2.58\n",
       "Basking Shark       34.14 -77.31  35.67 -75.19    1.53    2.12\n",
       "Bottlenose Dolphin  33.41 -78.40  37.40 -74.89    3.99    3.51\n",
       "Common Dolphin      33.45 -77.47  35.67 -74.92    2.22    2.55"
      ]
     },
     "execution_count": 38,
     "metadata": {},
     "output_type": "execute_result"
    }
   ],
   "source": [
    "#Compute two new columns as the difference between max and min\n",
    "sppExtent['XRange'] = sppExtent.maxX - sppExtent.minX\n",
    "sppExtent['YRange'] = sppExtent.maxY - sppExtent.minY\n",
    "sppExtent.head()"
   ]
  },
  {
   "cell_type": "code",
   "execution_count": null,
   "metadata": {},
   "outputs": [],
   "source": []
  }
 ],
 "metadata": {
  "kernelspec": {
   "display_name": "Python 3",
   "language": "python",
   "name": "python3"
  },
  "language_info": {
   "codemirror_mode": {
    "name": "ipython",
    "version": 3
   },
   "file_extension": ".py",
   "mimetype": "text/x-python",
   "name": "python",
   "nbconvert_exporter": "python",
   "pygments_lexer": "ipython3",
   "version": "3.6.8"
  }
 },
 "nbformat": 4,
 "nbformat_minor": 2
}
